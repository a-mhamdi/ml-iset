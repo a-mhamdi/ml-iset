{
 "cells": [
  {
   "cell_type": "markdown",
   "metadata": {},
   "source": [
    "# Machine Learning\n",
    "\n",
    "**Textbook is available @ [https://www.github.com/a-mhamdi/mlpy](https://www.github.com/a-mhamdi/mlpy)**\n",
    "\n",
    "---"
   ]
  },
  {
   "cell_type": "markdown",
   "metadata": {},
   "source": [
    "Linear regression is a statistical method used to model the linear relationship between a dependent variable and one or more independent variables. Simple linear regression is a type of linear regression that involves only one independent variable."
   ]
  },
  {
   "cell_type": "markdown",
   "metadata": {
    "colab_type": "text",
    "id": "l_LulNCC8z96",
    "tags": []
   },
   "source": [
    "## Simple Linear Regression"
   ]
  },
  {
   "cell_type": "markdown",
   "metadata": {},
   "source": [
    "The goal is to find the line of best fit that represents the relationship between the independent variable (aka the predictor or explanatory variable) and the dependent variable (aka the response or outcome variable). The line of best fit is a line that is as close as possible to the data points in the scatterplot of the variables."
   ]
  },
  {
   "cell_type": "markdown",
   "metadata": {
    "colab_type": "text",
    "id": "xpXdowrE9DxW",
    "tags": []
   },
   "source": [
    "### Libraries and settings"
   ]
  },
  {
   "cell_type": "code",
   "execution_count": 1,
   "metadata": {
    "colab": {},
    "colab_type": "code",
    "id": "nhKd4hWx9GFt"
   },
   "outputs": [],
   "source": [
    "import numpy as np\n",
    "import pandas as pd\n",
    "from matplotlib import pyplot as plt"
   ]
  },
  {
   "cell_type": "code",
   "execution_count": 2,
   "metadata": {},
   "outputs": [],
   "source": [
    "np.set_printoptions(precision=2)"
   ]
  },
  {
   "cell_type": "code",
   "execution_count": 3,
   "metadata": {},
   "outputs": [],
   "source": [
    "%matplotlib widget"
   ]
  },
  {
   "cell_type": "markdown",
   "metadata": {},
   "source": [
    "`%matplotlib widget` is a magic command in _Jupyter_ Notebooks which enables interactive features such as panning, zooming of plots, as well as the ability to hover over data point to display their values."
   ]
  },
  {
   "cell_type": "code",
   "execution_count": 4,
   "metadata": {},
   "outputs": [],
   "source": [
    "# plt.style.available\n",
    "plt.style.use('ggplot')"
   ]
  },
  {
   "cell_type": "markdown",
   "metadata": {
    "colab_type": "text",
    "id": "6JhpWJi59J1p",
    "tags": []
   },
   "source": [
    "### Importing the dataset"
   ]
  },
  {
   "cell_type": "code",
   "execution_count": 5,
   "metadata": {
    "colab": {},
    "colab_type": "code",
    "id": "f8GfYDZ59O18"
   },
   "outputs": [],
   "source": [
    "df = pd.read_csv('./datasets/Salary_Data.csv')"
   ]
  },
  {
   "cell_type": "code",
   "execution_count": 6,
   "metadata": {},
   "outputs": [
    {
     "data": {
      "text/html": [
       "<div>\n",
       "<style scoped>\n",
       "    .dataframe tbody tr th:only-of-type {\n",
       "        vertical-align: middle;\n",
       "    }\n",
       "\n",
       "    .dataframe tbody tr th {\n",
       "        vertical-align: top;\n",
       "    }\n",
       "\n",
       "    .dataframe thead th {\n",
       "        text-align: right;\n",
       "    }\n",
       "</style>\n",
       "<table border=\"1\" class=\"dataframe\">\n",
       "  <thead>\n",
       "    <tr style=\"text-align: right;\">\n",
       "      <th></th>\n",
       "      <th>YearsExperience</th>\n",
       "      <th>Salary</th>\n",
       "    </tr>\n",
       "  </thead>\n",
       "  <tbody>\n",
       "    <tr>\n",
       "      <th>0</th>\n",
       "      <td>1.1</td>\n",
       "      <td>39343.0</td>\n",
       "    </tr>\n",
       "    <tr>\n",
       "      <th>1</th>\n",
       "      <td>1.3</td>\n",
       "      <td>46205.0</td>\n",
       "    </tr>\n",
       "    <tr>\n",
       "      <th>2</th>\n",
       "      <td>1.5</td>\n",
       "      <td>37731.0</td>\n",
       "    </tr>\n",
       "    <tr>\n",
       "      <th>3</th>\n",
       "      <td>2.0</td>\n",
       "      <td>43525.0</td>\n",
       "    </tr>\n",
       "    <tr>\n",
       "      <th>4</th>\n",
       "      <td>2.2</td>\n",
       "      <td>39891.0</td>\n",
       "    </tr>\n",
       "  </tbody>\n",
       "</table>\n",
       "</div>"
      ],
      "text/plain": [
       "   YearsExperience   Salary\n",
       "0              1.1  39343.0\n",
       "1              1.3  46205.0\n",
       "2              1.5  37731.0\n",
       "3              2.0  43525.0\n",
       "4              2.2  39891.0"
      ]
     },
     "execution_count": 6,
     "metadata": {},
     "output_type": "execute_result"
    }
   ],
   "source": [
    "df.head()"
   ]
  },
  {
   "cell_type": "code",
   "execution_count": 7,
   "metadata": {},
   "outputs": [
    {
     "name": "stdout",
     "output_type": "stream",
     "text": [
      "<class 'pandas.core.frame.DataFrame'>\n",
      "RangeIndex: 30 entries, 0 to 29\n",
      "Data columns (total 2 columns):\n",
      " #   Column           Non-Null Count  Dtype  \n",
      "---  ------           --------------  -----  \n",
      " 0   YearsExperience  30 non-null     float64\n",
      " 1   Salary           30 non-null     float64\n",
      "dtypes: float64(2)\n",
      "memory usage: 608.0 bytes\n"
     ]
    }
   ],
   "source": [
    "df.info()"
   ]
  },
  {
   "cell_type": "code",
   "execution_count": 8,
   "metadata": {},
   "outputs": [
    {
     "data": {
      "text/html": [
       "<div>\n",
       "<style scoped>\n",
       "    .dataframe tbody tr th:only-of-type {\n",
       "        vertical-align: middle;\n",
       "    }\n",
       "\n",
       "    .dataframe tbody tr th {\n",
       "        vertical-align: top;\n",
       "    }\n",
       "\n",
       "    .dataframe thead th {\n",
       "        text-align: right;\n",
       "    }\n",
       "</style>\n",
       "<table border=\"1\" class=\"dataframe\">\n",
       "  <thead>\n",
       "    <tr style=\"text-align: right;\">\n",
       "      <th></th>\n",
       "      <th>YearsExperience</th>\n",
       "      <th>Salary</th>\n",
       "    </tr>\n",
       "  </thead>\n",
       "  <tbody>\n",
       "    <tr>\n",
       "      <th>count</th>\n",
       "      <td>30.000000</td>\n",
       "      <td>30.000000</td>\n",
       "    </tr>\n",
       "    <tr>\n",
       "      <th>mean</th>\n",
       "      <td>5.313333</td>\n",
       "      <td>76003.000000</td>\n",
       "    </tr>\n",
       "    <tr>\n",
       "      <th>std</th>\n",
       "      <td>2.837888</td>\n",
       "      <td>27414.429785</td>\n",
       "    </tr>\n",
       "    <tr>\n",
       "      <th>min</th>\n",
       "      <td>1.100000</td>\n",
       "      <td>37731.000000</td>\n",
       "    </tr>\n",
       "    <tr>\n",
       "      <th>25%</th>\n",
       "      <td>3.200000</td>\n",
       "      <td>56720.750000</td>\n",
       "    </tr>\n",
       "    <tr>\n",
       "      <th>50%</th>\n",
       "      <td>4.700000</td>\n",
       "      <td>65237.000000</td>\n",
       "    </tr>\n",
       "    <tr>\n",
       "      <th>75%</th>\n",
       "      <td>7.700000</td>\n",
       "      <td>100544.750000</td>\n",
       "    </tr>\n",
       "    <tr>\n",
       "      <th>max</th>\n",
       "      <td>10.500000</td>\n",
       "      <td>122391.000000</td>\n",
       "    </tr>\n",
       "  </tbody>\n",
       "</table>\n",
       "</div>"
      ],
      "text/plain": [
       "       YearsExperience         Salary\n",
       "count        30.000000      30.000000\n",
       "mean          5.313333   76003.000000\n",
       "std           2.837888   27414.429785\n",
       "min           1.100000   37731.000000\n",
       "25%           3.200000   56720.750000\n",
       "50%           4.700000   65237.000000\n",
       "75%           7.700000  100544.750000\n",
       "max          10.500000  122391.000000"
      ]
     },
     "execution_count": 8,
     "metadata": {},
     "output_type": "execute_result"
    }
   ],
   "source": [
    "df.describe()"
   ]
  },
  {
   "cell_type": "code",
   "execution_count": 9,
   "metadata": {},
   "outputs": [],
   "source": [
    "X = df.iloc[:, :-1].values\n",
    "y = df.iloc[:, -1].values"
   ]
  },
  {
   "cell_type": "markdown",
   "metadata": {
    "colab_type": "text",
    "id": "AyhQaTwP9RzG",
    "tags": []
   },
   "source": [
    "### Data split"
   ]
  },
  {
   "cell_type": "code",
   "execution_count": 10,
   "metadata": {},
   "outputs": [],
   "source": [
    "from sklearn.model_selection import train_test_split"
   ]
  },
  {
   "cell_type": "code",
   "execution_count": 11,
   "metadata": {
    "colab": {},
    "colab_type": "code",
    "id": "bxOOauiN9VpC"
   },
   "outputs": [],
   "source": [
    "X_train, X_test, y_train, y_test = train_test_split(X, y, test_size=1/3, random_state=123)"
   ]
  },
  {
   "cell_type": "markdown",
   "metadata": {
    "colab_type": "text",
    "id": "ZijQwFMQ9itx",
    "tags": []
   },
   "source": [
    "### Training"
   ]
  },
  {
   "cell_type": "code",
   "execution_count": 12,
   "metadata": {
    "tags": []
   },
   "outputs": [],
   "source": [
    "from sklearn.linear_model import LinearRegression"
   ]
  },
  {
   "cell_type": "code",
   "execution_count": 13,
   "metadata": {
    "colab": {
     "base_uri": "https://localhost:8080/",
     "height": 34
    },
    "colab_type": "code",
    "executionInfo": {
     "elapsed": 882,
     "status": "ok",
     "timestamp": 1586352495803,
     "user": {
      "displayName": "Hadelin de Ponteves",
      "photoUrl": "https://lh3.googleusercontent.com/a-/AOh14GhEuXdT7eQweUmRPW8_laJuPggSK6hfvpl5a6WBaA=s64",
      "userId": "15047218817161520419"
     },
     "user_tz": -240
    },
    "id": "B4Aj_8YJ9l7J",
    "outputId": "15363111-2a76-4774-88ad-48db22159e9d"
   },
   "outputs": [
    {
     "data": {
      "text/html": [
       "<style>#sk-container-id-1 {color: black;background-color: white;}#sk-container-id-1 pre{padding: 0;}#sk-container-id-1 div.sk-toggleable {background-color: white;}#sk-container-id-1 label.sk-toggleable__label {cursor: pointer;display: block;width: 100%;margin-bottom: 0;padding: 0.3em;box-sizing: border-box;text-align: center;}#sk-container-id-1 label.sk-toggleable__label-arrow:before {content: \"▸\";float: left;margin-right: 0.25em;color: #696969;}#sk-container-id-1 label.sk-toggleable__label-arrow:hover:before {color: black;}#sk-container-id-1 div.sk-estimator:hover label.sk-toggleable__label-arrow:before {color: black;}#sk-container-id-1 div.sk-toggleable__content {max-height: 0;max-width: 0;overflow: hidden;text-align: left;background-color: #f0f8ff;}#sk-container-id-1 div.sk-toggleable__content pre {margin: 0.2em;color: black;border-radius: 0.25em;background-color: #f0f8ff;}#sk-container-id-1 input.sk-toggleable__control:checked~div.sk-toggleable__content {max-height: 200px;max-width: 100%;overflow: auto;}#sk-container-id-1 input.sk-toggleable__control:checked~label.sk-toggleable__label-arrow:before {content: \"▾\";}#sk-container-id-1 div.sk-estimator input.sk-toggleable__control:checked~label.sk-toggleable__label {background-color: #d4ebff;}#sk-container-id-1 div.sk-label input.sk-toggleable__control:checked~label.sk-toggleable__label {background-color: #d4ebff;}#sk-container-id-1 input.sk-hidden--visually {border: 0;clip: rect(1px 1px 1px 1px);clip: rect(1px, 1px, 1px, 1px);height: 1px;margin: -1px;overflow: hidden;padding: 0;position: absolute;width: 1px;}#sk-container-id-1 div.sk-estimator {font-family: monospace;background-color: #f0f8ff;border: 1px dotted black;border-radius: 0.25em;box-sizing: border-box;margin-bottom: 0.5em;}#sk-container-id-1 div.sk-estimator:hover {background-color: #d4ebff;}#sk-container-id-1 div.sk-parallel-item::after {content: \"\";width: 100%;border-bottom: 1px solid gray;flex-grow: 1;}#sk-container-id-1 div.sk-label:hover label.sk-toggleable__label {background-color: #d4ebff;}#sk-container-id-1 div.sk-serial::before {content: \"\";position: absolute;border-left: 1px solid gray;box-sizing: border-box;top: 0;bottom: 0;left: 50%;z-index: 0;}#sk-container-id-1 div.sk-serial {display: flex;flex-direction: column;align-items: center;background-color: white;padding-right: 0.2em;padding-left: 0.2em;position: relative;}#sk-container-id-1 div.sk-item {position: relative;z-index: 1;}#sk-container-id-1 div.sk-parallel {display: flex;align-items: stretch;justify-content: center;background-color: white;position: relative;}#sk-container-id-1 div.sk-item::before, #sk-container-id-1 div.sk-parallel-item::before {content: \"\";position: absolute;border-left: 1px solid gray;box-sizing: border-box;top: 0;bottom: 0;left: 50%;z-index: -1;}#sk-container-id-1 div.sk-parallel-item {display: flex;flex-direction: column;z-index: 1;position: relative;background-color: white;}#sk-container-id-1 div.sk-parallel-item:first-child::after {align-self: flex-end;width: 50%;}#sk-container-id-1 div.sk-parallel-item:last-child::after {align-self: flex-start;width: 50%;}#sk-container-id-1 div.sk-parallel-item:only-child::after {width: 0;}#sk-container-id-1 div.sk-dashed-wrapped {border: 1px dashed gray;margin: 0 0.4em 0.5em 0.4em;box-sizing: border-box;padding-bottom: 0.4em;background-color: white;}#sk-container-id-1 div.sk-label label {font-family: monospace;font-weight: bold;display: inline-block;line-height: 1.2em;}#sk-container-id-1 div.sk-label-container {text-align: center;}#sk-container-id-1 div.sk-container {/* jupyter's `normalize.less` sets `[hidden] { display: none; }` but bootstrap.min.css set `[hidden] { display: none !important; }` so we also need the `!important` here to be able to override the default hidden behavior on the sphinx rendered scikit-learn.org. See: https://github.com/scikit-learn/scikit-learn/issues/21755 */display: inline-block !important;position: relative;}#sk-container-id-1 div.sk-text-repr-fallback {display: none;}</style><div id=\"sk-container-id-1\" class=\"sk-top-container\"><div class=\"sk-text-repr-fallback\"><pre>LinearRegression()</pre><b>In a Jupyter environment, please rerun this cell to show the HTML representation or trust the notebook. <br />On GitHub, the HTML representation is unable to render, please try loading this page with nbviewer.org.</b></div><div class=\"sk-container\" hidden><div class=\"sk-item\"><div class=\"sk-estimator sk-toggleable\"><input class=\"sk-toggleable__control sk-hidden--visually\" id=\"sk-estimator-id-1\" type=\"checkbox\" checked><label for=\"sk-estimator-id-1\" class=\"sk-toggleable__label sk-toggleable__label-arrow\">LinearRegression</label><div class=\"sk-toggleable__content\"><pre>LinearRegression()</pre></div></div></div></div></div>"
      ],
      "text/plain": [
       "LinearRegression()"
      ]
     },
     "execution_count": 13,
     "metadata": {},
     "output_type": "execute_result"
    }
   ],
   "source": [
    "lr = LinearRegression()\n",
    "lr.fit(X_train, y_train)"
   ]
  },
  {
   "cell_type": "code",
   "execution_count": 14,
   "metadata": {
    "tags": []
   },
   "outputs": [
    {
     "data": {
      "text/plain": [
       "array([9362.62])"
      ]
     },
     "execution_count": 14,
     "metadata": {},
     "output_type": "execute_result"
    }
   ],
   "source": [
    "theta_1 = lr.coef_\n",
    "theta_1"
   ]
  },
  {
   "cell_type": "code",
   "execution_count": 15,
   "metadata": {
    "tags": []
   },
   "outputs": [
    {
     "data": {
      "text/plain": [
       "25909.97173284251"
      ]
     },
     "execution_count": 15,
     "metadata": {},
     "output_type": "execute_result"
    }
   ],
   "source": [
    "b = lr.intercept_\n",
    "b"
   ]
  },
  {
   "cell_type": "markdown",
   "metadata": {
    "colab_type": "text",
    "id": "wa2T1Lq89o5H",
    "tags": []
   },
   "source": [
    "### Prediction and evaluation"
   ]
  },
  {
   "cell_type": "code",
   "execution_count": 16,
   "metadata": {
    "colab": {},
    "colab_type": "code",
    "id": "Rn_sTJ2o9smm"
   },
   "outputs": [],
   "source": [
    "y_pred = lr.predict(X_test)"
   ]
  },
  {
   "cell_type": "markdown",
   "metadata": {},
   "source": [
    "#### Evaluation Metrics"
   ]
  },
  {
   "cell_type": "markdown",
   "metadata": {},
   "source": [
    "First of all, let's compute, using the basic operations, the mean absolute and mean squared errors as below:"
   ]
  },
  {
   "cell_type": "code",
   "execution_count": 17,
   "metadata": {
    "tags": []
   },
   "outputs": [
    {
     "data": {
      "text/plain": [
       "5218.304759400475"
      ]
     },
     "execution_count": 17,
     "metadata": {},
     "output_type": "execute_result"
    }
   ],
   "source": [
    "mae = np.abs(y_pred-y_test)\n",
    "mae.mean()"
   ]
  },
  {
   "cell_type": "code",
   "execution_count": 18,
   "metadata": {
    "tags": []
   },
   "outputs": [
    {
     "data": {
      "text/plain": [
       "36508122.71594656"
      ]
     },
     "execution_count": 18,
     "metadata": {},
     "output_type": "execute_result"
    }
   ],
   "source": [
    "mse = (y_pred-y_test)**2\n",
    "mse.mean()"
   ]
  },
  {
   "cell_type": "markdown",
   "metadata": {},
   "source": [
    "We can also evaluate the mean absolute error and the mean squared error, denoted here `mae` and `mse` , by calling the builtin methods `mean_absolute_error` and `mean_squared_error`"
   ]
  },
  {
   "cell_type": "code",
   "execution_count": 19,
   "metadata": {
    "tags": []
   },
   "outputs": [],
   "source": [
    "from sklearn.metrics import mean_absolute_error, mean_squared_error"
   ]
  },
  {
   "cell_type": "code",
   "execution_count": 20,
   "metadata": {
    "tags": []
   },
   "outputs": [
    {
     "data": {
      "text/plain": [
       "5218.304759400475"
      ]
     },
     "execution_count": 20,
     "metadata": {},
     "output_type": "execute_result"
    }
   ],
   "source": [
    "mae = mean_absolute_error(y_test, y_pred)\n",
    "mae"
   ]
  },
  {
   "cell_type": "code",
   "execution_count": 21,
   "metadata": {
    "tags": []
   },
   "outputs": [
    {
     "data": {
      "text/plain": [
       "36508122.71594656"
      ]
     },
     "execution_count": 21,
     "metadata": {},
     "output_type": "execute_result"
    }
   ],
   "source": [
    "mse = mean_squared_error(y_test, y_pred)\n",
    "mse"
   ]
  },
  {
   "cell_type": "markdown",
   "metadata": {
    "colab_type": "text",
    "id": "EUX1Vhsv97ZT"
   },
   "source": [
    "#### Visualization"
   ]
  },
  {
   "cell_type": "markdown",
   "metadata": {},
   "source": [
    "We can also use _Matplotlib_ to visualize the line of best fit, to which, we add the original test data points in a `scatterplot`."
   ]
  },
  {
   "cell_type": "code",
   "execution_count": 22,
   "metadata": {
    "colab": {
     "base_uri": "https://localhost:8080/",
     "height": 295
    },
    "colab_type": "code",
    "executionInfo": {
     "elapsed": 1097,
     "status": "ok",
     "timestamp": 1586352506966,
     "user": {
      "displayName": "Hadelin de Ponteves",
      "photoUrl": "https://lh3.googleusercontent.com/a-/AOh14GhEuXdT7eQweUmRPW8_laJuPggSK6hfvpl5a6WBaA=s64",
      "userId": "15047218817161520419"
     },
     "user_tz": -240
    },
    "id": "Ze9vpBTf-Bol",
    "outputId": "58359ab2-7a52-4960-f49e-3d8b5ef6f7a1",
    "tags": []
   },
   "outputs": [
    {
     "data": {
      "application/vnd.jupyter.widget-view+json": {
       "model_id": "f79f5637676d425d93b1a9c20ef868f6",
       "version_major": 2,
       "version_minor": 0
      },
      "image/png": "[encoded data removed]",
      "text/html": [
       "\n",
       "            <div style=\"display: inline-block;\">\n",
       "                <div class=\"jupyter-widgets widget-label\" style=\"text-align: center;\">\n",
       "                    Figure\n",
       "                </div>\n",
       "                <img src='data:image/png;base64,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' width=640.0/>\n",
       "            </div>\n",
       "        "
      ],
      "text/plain": [
       "Canvas(toolbar=Toolbar(toolitems=[('Home', 'Reset original view', 'home', 'home'), ('Back', 'Back to previous …"
      ]
     },
     "metadata": {},
     "output_type": "display_data"
    }
   ],
   "source": [
    "plt.scatter(X_test, y_test, color='blue')\n",
    "plt.plot(X_test, y_pred, color='red')\n",
    "plt.title('Test Set')\n",
    "plt.xlabel('Years of Experience')\n",
    "plt.ylabel('Salary')\n",
    "plt.show()"
   ]
  },
  {
   "cell_type": "markdown",
   "metadata": {
    "tags": []
   },
   "source": [
    "### BONUS"
   ]
  },
  {
   "cell_type": "markdown",
   "metadata": {},
   "source": [
    "The following cells are to check the validity of `lr` against the normal equation, aka, **Ordinary Least Squares (OLS)** method as seen in class. For the sake of simplicity, we suppose we don't fit the intercept."
   ]
  },
  {
   "cell_type": "code",
   "execution_count": 23,
   "metadata": {
    "colab": {
     "base_uri": "https://localhost:8080/",
     "height": 34
    },
    "colab_type": "code",
    "executionInfo": {
     "elapsed": 882,
     "status": "ok",
     "timestamp": 1586352495803,
     "user": {
      "displayName": "Hadelin de Ponteves",
      "photoUrl": "https://lh3.googleusercontent.com/a-/AOh14GhEuXdT7eQweUmRPW8_laJuPggSK6hfvpl5a6WBaA=s64",
      "userId": "15047218817161520419"
     },
     "user_tz": -240
    },
    "id": "B4Aj_8YJ9l7J",
    "outputId": "15363111-2a76-4774-88ad-48db22159e9d"
   },
   "outputs": [
    {
     "data": {
      "text/html": [
       "<style>#sk-container-id-2 {color: black;background-color: white;}#sk-container-id-2 pre{padding: 0;}#sk-container-id-2 div.sk-toggleable {background-color: white;}#sk-container-id-2 label.sk-toggleable__label {cursor: pointer;display: block;width: 100%;margin-bottom: 0;padding: 0.3em;box-sizing: border-box;text-align: center;}#sk-container-id-2 label.sk-toggleable__label-arrow:before {content: \"▸\";float: left;margin-right: 0.25em;color: #696969;}#sk-container-id-2 label.sk-toggleable__label-arrow:hover:before {color: black;}#sk-container-id-2 div.sk-estimator:hover label.sk-toggleable__label-arrow:before {color: black;}#sk-container-id-2 div.sk-toggleable__content {max-height: 0;max-width: 0;overflow: hidden;text-align: left;background-color: #f0f8ff;}#sk-container-id-2 div.sk-toggleable__content pre {margin: 0.2em;color: black;border-radius: 0.25em;background-color: #f0f8ff;}#sk-container-id-2 input.sk-toggleable__control:checked~div.sk-toggleable__content {max-height: 200px;max-width: 100%;overflow: auto;}#sk-container-id-2 input.sk-toggleable__control:checked~label.sk-toggleable__label-arrow:before {content: \"▾\";}#sk-container-id-2 div.sk-estimator input.sk-toggleable__control:checked~label.sk-toggleable__label {background-color: #d4ebff;}#sk-container-id-2 div.sk-label input.sk-toggleable__control:checked~label.sk-toggleable__label {background-color: #d4ebff;}#sk-container-id-2 input.sk-hidden--visually {border: 0;clip: rect(1px 1px 1px 1px);clip: rect(1px, 1px, 1px, 1px);height: 1px;margin: -1px;overflow: hidden;padding: 0;position: absolute;width: 1px;}#sk-container-id-2 div.sk-estimator {font-family: monospace;background-color: #f0f8ff;border: 1px dotted black;border-radius: 0.25em;box-sizing: border-box;margin-bottom: 0.5em;}#sk-container-id-2 div.sk-estimator:hover {background-color: #d4ebff;}#sk-container-id-2 div.sk-parallel-item::after {content: \"\";width: 100%;border-bottom: 1px solid gray;flex-grow: 1;}#sk-container-id-2 div.sk-label:hover label.sk-toggleable__label {background-color: #d4ebff;}#sk-container-id-2 div.sk-serial::before {content: \"\";position: absolute;border-left: 1px solid gray;box-sizing: border-box;top: 0;bottom: 0;left: 50%;z-index: 0;}#sk-container-id-2 div.sk-serial {display: flex;flex-direction: column;align-items: center;background-color: white;padding-right: 0.2em;padding-left: 0.2em;position: relative;}#sk-container-id-2 div.sk-item {position: relative;z-index: 1;}#sk-container-id-2 div.sk-parallel {display: flex;align-items: stretch;justify-content: center;background-color: white;position: relative;}#sk-container-id-2 div.sk-item::before, #sk-container-id-2 div.sk-parallel-item::before {content: \"\";position: absolute;border-left: 1px solid gray;box-sizing: border-box;top: 0;bottom: 0;left: 50%;z-index: -1;}#sk-container-id-2 div.sk-parallel-item {display: flex;flex-direction: column;z-index: 1;position: relative;background-color: white;}#sk-container-id-2 div.sk-parallel-item:first-child::after {align-self: flex-end;width: 50%;}#sk-container-id-2 div.sk-parallel-item:last-child::after {align-self: flex-start;width: 50%;}#sk-container-id-2 div.sk-parallel-item:only-child::after {width: 0;}#sk-container-id-2 div.sk-dashed-wrapped {border: 1px dashed gray;margin: 0 0.4em 0.5em 0.4em;box-sizing: border-box;padding-bottom: 0.4em;background-color: white;}#sk-container-id-2 div.sk-label label {font-family: monospace;font-weight: bold;display: inline-block;line-height: 1.2em;}#sk-container-id-2 div.sk-label-container {text-align: center;}#sk-container-id-2 div.sk-container {/* jupyter's `normalize.less` sets `[hidden] { display: none; }` but bootstrap.min.css set `[hidden] { display: none !important; }` so we also need the `!important` here to be able to override the default hidden behavior on the sphinx rendered scikit-learn.org. See: https://github.com/scikit-learn/scikit-learn/issues/21755 */display: inline-block !important;position: relative;}#sk-container-id-2 div.sk-text-repr-fallback {display: none;}</style><div id=\"sk-container-id-2\" class=\"sk-top-container\"><div class=\"sk-text-repr-fallback\"><pre>LinearRegression(fit_intercept=False)</pre><b>In a Jupyter environment, please rerun this cell to show the HTML representation or trust the notebook. <br />On GitHub, the HTML representation is unable to render, please try loading this page with nbviewer.org.</b></div><div class=\"sk-container\" hidden><div class=\"sk-item\"><div class=\"sk-estimator sk-toggleable\"><input class=\"sk-toggleable__control sk-hidden--visually\" id=\"sk-estimator-id-2\" type=\"checkbox\" checked><label for=\"sk-estimator-id-2\" class=\"sk-toggleable__label sk-toggleable__label-arrow\">LinearRegression</label><div class=\"sk-toggleable__content\"><pre>LinearRegression(fit_intercept=False)</pre></div></div></div></div></div>"
      ],
      "text/plain": [
       "LinearRegression(fit_intercept=False)"
      ]
     },
     "execution_count": 23,
     "metadata": {},
     "output_type": "execute_result"
    }
   ],
   "source": [
    "lr = LinearRegression(fit_intercept=False)\n",
    "lr.fit(X_train, y_train)"
   ]
  },
  {
   "cell_type": "code",
   "execution_count": 24,
   "metadata": {
    "tags": []
   },
   "outputs": [
    {
     "data": {
      "text/plain": [
       "array([13495.97])"
      ]
     },
     "execution_count": 24,
     "metadata": {},
     "output_type": "execute_result"
    }
   ],
   "source": [
    "theta_1 = lr.coef_\n",
    "theta_1"
   ]
  },
  {
   "cell_type": "code",
   "execution_count": 25,
   "metadata": {
    "tags": []
   },
   "outputs": [
    {
     "data": {
      "text/plain": [
       "0.0"
      ]
     },
     "execution_count": 25,
     "metadata": {},
     "output_type": "execute_result"
    }
   ],
   "source": [
    "b = lr.intercept_\n",
    "b"
   ]
  },
  {
   "cell_type": "markdown",
   "metadata": {},
   "source": [
    "Check the value of `theta_1` using **OLS**:"
   ]
  },
  {
   "cell_type": "markdown",
   "metadata": {},
   "source": [
    "$$\\hat{\\theta} \\;=\\; \\displaystyle\\dfrac{\\sum_{i=0}^{n-1} y_i x_i}{\\sum_{i=0}^{n-1} x_i^2}$$"
   ]
  },
  {
   "cell_type": "code",
   "execution_count": 26,
   "metadata": {
    "tags": []
   },
   "outputs": [
    {
     "data": {
      "text/plain": [
       "array([[13495.97]])"
      ]
     },
     "execution_count": 26,
     "metadata": {},
     "output_type": "execute_result"
    }
   ],
   "source": [
    "theta_hat = (y_train @ X_train)/(X_train.T @ X_train)\n",
    "theta_hat"
   ]
  }
 ],
 "metadata": {
  "colab": {
   "authorship_tag": "ABX9TyP1VVwrQU8S68bmX5lftYWC",
   "name": "Simple Linear Regression",
   "provenance": [],
   "toc_visible": true
  },
  "kernelspec": {
   "display_name": "Python 3 (ipykernel)",
   "language": "python",
   "name": "python3"
  },
  "language_info": {
   "codemirror_mode": {
    "name": "ipython",
    "version": 3
   },
   "file_extension": ".py",
   "mimetype": "text/x-python",
   "name": "python",
   "nbconvert_exporter": "python",
   "pygments_lexer": "ipython3",
   "version": "3.10.12"
  }
 },
 "nbformat": 4,
 "nbformat_minor": 4
}
