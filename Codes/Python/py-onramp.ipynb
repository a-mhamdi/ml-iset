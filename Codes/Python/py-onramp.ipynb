{
 "cells": [
  {
   "cell_type": "markdown",
   "metadata": {},
   "source": [
    "# Machine Learning\n",
    "\n",
    "**Textbook is available @ [https://www.github.com/a-mhamdi/mlpy](https://www.github.com/a-mhamdi/mlpy)**\n",
    "\n",
    "---"
   ]
  },
  {
   "cell_type": "markdown",
   "metadata": {},
   "source": [
    "**Goals**\n",
    "\n",
    "1. Learn the basics of programming in *Python*;\n",
    "2. Get familiar with *Jupyter Notebook*;\n",
    "3. Use the modules of scientific computing.\n"
   ]
  },
  {
   "cell_type": "markdown",
   "metadata": {},
   "source": [
    "## Numerical variables & types"
   ]
  },
  {
   "cell_type": "code",
   "execution_count": 1,
   "metadata": {},
   "outputs": [
    {
     "name": "stdout",
     "output_type": "stream",
     "text": [
      "The variable a = 1 is of type <class 'int'>\n"
     ]
    }
   ],
   "source": [
    "a = 1 # An integer\n",
    "print('The variable a = {} is of type {}'.format(a, type(a)))"
   ]
  },
  {
   "cell_type": "code",
   "execution_count": 2,
   "metadata": {},
   "outputs": [
    {
     "name": "stdout",
     "output_type": "stream",
     "text": [
      "The variable b = -1.25 is of type <class 'float'>\n"
     ]
    }
   ],
   "source": [
    "b = -1.25 # A floating number\n",
    "print('The variable b = {} is of type {}'.format(b, type(b)))"
   ]
  },
  {
   "cell_type": "code",
   "execution_count": 3,
   "metadata": {},
   "outputs": [
    {
     "name": "stdout",
     "output_type": "stream",
     "text": [
      "The variable c = (1+0.5j) is of type <class 'complex'>\n"
     ]
    }
   ],
   "source": [
    "c = 1+0.5j # A complex number \n",
    "print('The variable c = {} is of type {}'.format(c, type(c)))"
   ]
  },
  {
   "cell_type": "markdown",
   "metadata": {},
   "source": [
    "## Strings "
   ]
  },
  {
   "cell_type": "code",
   "execution_count": 4,
   "metadata": {},
   "outputs": [
    {
     "name": "stdout",
     "output_type": "stream",
     "text": [
      "My 1st lab!\n",
      "***\n",
      "<class 'str'>\n",
      "My 1st lab!\n",
      "Python is awesome\n",
      "Python is awesome\n",
      "Python is awesome\n"
     ]
    }
   ],
   "source": [
    "msg = \"My 1st lab!\"\n",
    "print(msg, type(msg), sep = '\\n***\\n') # \\n: Carriage Return & Line Feed\n",
    "print(msg + 3* '\\nPython is awesome')"
   ]
  },
  {
   "cell_type": "code",
   "execution_count": 5,
   "metadata": {},
   "outputs": [
    {
     "name": "stdout",
     "output_type": "stream",
     "text": [
      "This is a long message,\n",
      "spanned over multiple lines\n"
     ]
    }
   ],
   "source": [
    "longMsg = \"\"\"This is a long message,\n",
    "spanned over multiple lines\"\"\"\n",
    "print(longMsg)"
   ]
  },
  {
   "cell_type": "markdown",
   "metadata": {},
   "source": [
    "_Indexing and slicing_\n"
   ]
  },
  {
   "cell_type": "code",
   "execution_count": 6,
   "metadata": {},
   "outputs": [
    {
     "name": "stdout",
     "output_type": "stream",
     "text": [
      "My 1st lab! -----> y 1s\n",
      "My 1st lab! ----->  lab\n"
     ]
    }
   ],
   "source": [
    "# Positive indexing\n",
    "print(msg, msg[1:5], sep = ' -----> ')\n",
    "# Negative indexing\n",
    "print(msg, msg[-5:-1], sep = ' -----> ')"
   ]
  },
  {
   "cell_type": "markdown",
   "metadata": {},
   "source": [
    "_String transformations_\n"
   ]
  },
  {
   "cell_type": "code",
   "execution_count": 7,
   "metadata": {},
   "outputs": [
    {
     "name": "stdout",
     "output_type": "stream",
     "text": [
      "9\n",
      "a message\n",
      "A MESSAGE\n",
      "['A', 'message']\n",
      "A MESsage\n",
      "True\n"
     ]
    }
   ],
   "source": [
    "msg = 'A message'\n",
    "print(len(msg))\n",
    "print(msg.lower())\n",
    "print(msg.upper())\n",
    "print(msg.split(' '))\n",
    "print(msg.replace('mes', 'MES'))\n",
    "print('a' in msg) #  Check if the variable `msg` contains the letter 'a'"
   ]
  },
  {
   "cell_type": "code",
   "execution_count": 8,
   "metadata": {},
   "outputs": [
    {
     "name": "stdout",
     "output_type": "stream",
     "text": [
      "A customer asks for 7 pieces. They cost 300 TND!\n",
      "A customer demande 7 pièces. They cost 300 TND!\n"
     ]
    }
   ],
   "source": [
    "price, number, perso = 300, 7, 'A customer'\n",
    "print('{} asks for {} pieces. They cost {} TND!'.format(perso, number, price))\n",
    "print('{1} demande {2} pièces. They cost {0} TND!'.format(price, perso, number))"
   ]
  },
  {
   "cell_type": "markdown",
   "metadata": {},
   "source": [
    "## Binary, octal & hexadecimal"
   ]
  },
  {
   "cell_type": "code",
   "execution_count": 9,
   "metadata": {},
   "outputs": [
    {
     "name": "stdout",
     "output_type": "stream",
     "text": [
      "5\t----\t<class 'int'>\n",
      "175\t---------------\t<class 'int'>\n",
      "8, <class 'int'>\n"
     ]
    }
   ],
   "source": [
    "x = 0b0101 # 0b : binary\n",
    "print(x, type(x), sep = '\\t----\\t') # \\t : tabular\n",
    "y = 0xAF # Ox : hexadecimal\n",
    "print(y, type(y), sep = '\\t' + '---'*5 + '\\t')\n",
    "z = 0o010 # 0o : octal\n",
    "print(z, type(z), sep = ', ')"
   ]
  },
  {
   "cell_type": "markdown",
   "metadata": {},
   "source": [
    "_Boolean_\n"
   ]
  },
  {
   "cell_type": "code",
   "execution_count": 10,
   "metadata": {},
   "outputs": [
    {
     "name": "stdout",
     "output_type": "stream",
     "text": [
      "True\n",
      "False\n"
     ]
    }
   ],
   "source": [
    "a = True\n",
    "b = False\n",
    "print(a)\n",
    "print(b)"
   ]
  },
  {
   "cell_type": "code",
   "execution_count": 11,
   "metadata": {},
   "outputs": [
    {
     "name": "stdout",
     "output_type": "stream",
     "text": [
      "50 > 20 ? : True \n",
      "50 < 20 ? : False \n",
      "50 = 20 ? : False\n",
      "50 /= 20 ? : True\n"
     ]
    }
   ],
   "source": [
    "print(\"50 > 20 ? : {} \\n50 < 20 ? : {} \\n50 = 20 ? : {}\\n50 /= 20 ? : {}\"\n",
    "      .format(50 > 20, 50 < 20, 50 == 20, 50 != 20)\n",
    "     )"
   ]
  },
  {
   "cell_type": "code",
   "execution_count": 12,
   "metadata": {},
   "outputs": [
    {
     "name": "stdout",
     "output_type": "stream",
     "text": [
      "True False True False\n"
     ]
    }
   ],
   "source": [
    "print(bool(123), bool(0), bool('Lab'), bool())"
   ]
  },
  {
   "cell_type": "code",
   "execution_count": 13,
   "metadata": {},
   "outputs": [
    {
     "name": "stdout",
     "output_type": "stream",
     "text": [
      "True\n",
      "False\n",
      "True\n"
     ]
    }
   ],
   "source": [
    "var1 = 100\n",
    "print(isinstance(var1, int))\n",
    "var2 = -100.35\n",
    "print(isinstance(var2, int))\n",
    "print(isinstance(var2, float))"
   ]
  },
  {
   "cell_type": "markdown",
   "metadata": {},
   "source": [
    "## Lists, tuples & dictionaries"
   ]
  },
  {
   "cell_type": "markdown",
   "metadata": {},
   "source": [
    "In Python, a list is an ordered collection of items that can be of any data type (including other lists). Lists are defined using square brackets, with items separated by commas. For example:"
   ]
  },
  {
   "cell_type": "code",
   "execution_count": 14,
   "metadata": {},
   "outputs": [],
   "source": [
    "shopping_list = ['milk', 'eggs', 'bread', 'apples']"
   ]
  },
  {
   "cell_type": "markdown",
   "metadata": {},
   "source": [
    "A tuple is also an ordered collection of items, but it is immutable, meaning that the items it contains cannot be modified once the tuple is created. Tuples are defined using parentheses, with items separated by commas. For example:"
   ]
  },
  {
   "cell_type": "code",
   "execution_count": 15,
   "metadata": {},
   "outputs": [],
   "source": [
    "point = (3, 5)\n"
   ]
  },
  {
   "cell_type": "markdown",
   "metadata": {},
   "source": [
    "A dictionary is a collection of key-value pairs, where the keys are unique and used to look up the corresponding values. Dictionaries are defined using curly braces, with the key-value pairs separated by commas. The keys and values are separated by a colon. For example:"
   ]
  },
  {
   "cell_type": "code",
   "execution_count": 16,
   "metadata": {},
   "outputs": [],
   "source": [
    "phonebook = {'Alice': '555-1234', 'Bob': '555-5678', 'Eve': '555-9101'}\n"
   ]
  },
  {
   "cell_type": "markdown",
   "metadata": {},
   "source": [
    "You can access the items in a list or tuple using an index, and you can access the values in a dictionary using the corresponding keys. For example:"
   ]
  },
  {
   "cell_type": "code",
   "execution_count": 17,
   "metadata": {},
   "outputs": [
    {
     "name": "stdout",
     "output_type": "stream",
     "text": [
      "eggs\n",
      "3\n",
      "555-5678\n"
     ]
    }
   ],
   "source": [
    "# Accessing the second item in a list\n",
    "print(shopping_list[1])  # prints 'eggs'\n",
    "\n",
    "# Accessing the first item in a tuple\n",
    "print(point[0])  # prints 3\n",
    "\n",
    "# Accessing the phone number for 'Bob' in the phonebook dictionary\n",
    "print(phonebook['Bob'])  # prints '555-5678'\n"
   ]
  },
  {
   "cell_type": "markdown",
   "metadata": {},
   "source": [
    "### List"
   ]
  },
  {
   "cell_type": "code",
   "execution_count": 18,
   "metadata": {},
   "outputs": [
    {
     "name": "stdout",
     "output_type": "stream",
     "text": [
      "['a', 'b', 'c', 1, True]\n"
     ]
    }
   ],
   "source": [
    "lst = ['a', 'b', 'c', 1, True] # An aggregate of various types\n",
    "print(lst)"
   ]
  },
  {
   "cell_type": "code",
   "execution_count": 19,
   "metadata": {},
   "outputs": [
    {
     "name": "stdout",
     "output_type": "stream",
     "text": [
      "5\n",
      "['b', 'c']\n",
      "[['1', 0], 'b', 'c', 1, True]\n",
      "[1, True]\n",
      "[['1', 0], 'b', 'c']\n"
     ]
    }
   ],
   "source": [
    "print(len(lst)) # Length of `lst` variable\n",
    "print(lst[1:3]) # Accessing elements of `lst`\n",
    "lst[0] = ['1', 0] # Combined list\n",
    "print(lst)\n",
    "print(lst[3:])\n",
    "print(lst[:3])"
   ]
  },
  {
   "cell_type": "code",
   "execution_count": 20,
   "metadata": {},
   "outputs": [
    {
     "name": "stdout",
     "output_type": "stream",
     "text": [
      "[['1', 0], 'b', 'c', 1, True, 'etc']\n"
     ]
    }
   ],
   "source": [
    "lst.append('etc') # Insert 'etc' at the end\n",
    "print(lst)"
   ]
  },
  {
   "cell_type": "code",
   "execution_count": 21,
   "metadata": {},
   "outputs": [
    {
     "name": "stdout",
     "output_type": "stream",
     "text": [
      "[['1', 0], 'xyz', 'b', 'c', 1, True, 'etc']\n"
     ]
    }
   ],
   "source": [
    "lst.insert(1, 'xyz') # Inserting 'xyz'\n",
    "print(lst)"
   ]
  },
  {
   "cell_type": "code",
   "execution_count": 22,
   "metadata": {},
   "outputs": [
    {
     "name": "stdout",
     "output_type": "stream",
     "text": [
      "[['1', 0], 'b', 'c', 1, True, 'etc']\n"
     ]
    }
   ],
   "source": [
    "lst.pop(1)\n",
    "print(lst)"
   ]
  },
  {
   "cell_type": "code",
   "execution_count": 23,
   "metadata": {},
   "outputs": [
    {
     "name": "stdout",
     "output_type": "stream",
     "text": [
      "[['1', 0], 'b', 'c', 1, True]\n"
     ]
    }
   ],
   "source": [
    "lst.pop()\n",
    "print(lst)"
   ]
  },
  {
   "cell_type": "code",
   "execution_count": 24,
   "metadata": {},
   "outputs": [
    {
     "name": "stdout",
     "output_type": "stream",
     "text": [
      "['b', 'c', 1, True]\n"
     ]
    }
   ],
   "source": [
    "del lst[0]\n",
    "print(lst)"
   ]
  },
  {
   "cell_type": "code",
   "execution_count": 25,
   "metadata": {},
   "outputs": [
    {
     "name": "stdout",
     "output_type": "stream",
     "text": [
      "['b', 'c', 1, True, 'b']\n",
      "['c', 1, True, 'b']\n"
     ]
    }
   ],
   "source": [
    "lst.append('b')\n",
    "print(lst)\n",
    "lst.remove('b')\n",
    "print(lst)"
   ]
  },
  {
   "cell_type": "code",
   "execution_count": 26,
   "metadata": {},
   "outputs": [
    {
     "name": "stdout",
     "output_type": "stream",
     "text": [
      "c\n",
      "1\n",
      "True\n",
      "b\n"
     ]
    }
   ],
   "source": [
    "# Loop\n",
    "for k in lst:\n",
    "    print(k)"
   ]
  },
  {
   "cell_type": "code",
   "execution_count": 27,
   "metadata": {},
   "outputs": [
    {
     "name": "stdout",
     "output_type": "stream",
     "text": [
      "[]\n"
     ]
    }
   ],
   "source": [
    "lst.clear()\n",
    "print(lst)"
   ]
  },
  {
   "cell_type": "markdown",
   "metadata": {},
   "source": [
    "| **_Method_**  | **_Description_** |\n",
    "| ------------- | ------------- |\n",
    "| **copy()**    | Returns a copy of the list |\n",
    "| **list()**    | Transforms into a list |\n",
    "| **extend ()** | Extends a list by adding elements at its end |\n",
    "| **count()**   | Returns the occurrences of the specified value |\n",
    "| **index()**   | Returns the index of the first occurrence of a specified value |\n",
    "| **reverse()** | Reverse a list |\n",
    "| **sort()**    | Sort a list |\n"
   ]
  },
  {
   "cell_type": "markdown",
   "metadata": {},
   "source": [
    "### Tuples"
   ]
  },
  {
   "cell_type": "code",
   "execution_count": 28,
   "metadata": {},
   "outputs": [
    {
     "name": "stdout",
     "output_type": "stream",
     "text": [
      "(1, 2, 3)\n"
     ]
    }
   ],
   "source": [
    "tpl = (1, 2, 3)\n",
    "print(tpl)"
   ]
  },
  {
   "cell_type": "code",
   "execution_count": 29,
   "metadata": {},
   "outputs": [
    {
     "name": "stdout",
     "output_type": "stream",
     "text": [
      "(1, '1', 2, 'text')\n"
     ]
    }
   ],
   "source": [
    "tpl = (1, '1', 2, 'text')\n",
    "print(tpl)"
   ]
  },
  {
   "cell_type": "code",
   "execution_count": 30,
   "metadata": {},
   "outputs": [
    {
     "name": "stdout",
     "output_type": "stream",
     "text": [
      "4\n"
     ]
    }
   ],
   "source": [
    "print(len(tpl))"
   ]
  },
  {
   "cell_type": "code",
   "execution_count": 31,
   "metadata": {},
   "outputs": [
    {
     "name": "stdout",
     "output_type": "stream",
     "text": [
      "('1', 2, 'text')\n"
     ]
    }
   ],
   "source": [
    "print(tpl[1:])"
   ]
  },
  {
   "cell_type": "code",
   "execution_count": 32,
   "metadata": {},
   "outputs": [
    {
     "name": "stdout",
     "output_type": "stream",
     "text": [
      "'tuple' object has no attribute 'append'\n"
     ]
    }
   ],
   "source": [
    "try:\n",
    "    tpl.append('xyz') # Throws an error\n",
    "except Exception as err:\n",
    "    print(err)"
   ]
  },
  {
   "cell_type": "code",
   "execution_count": 33,
   "metadata": {},
   "outputs": [
    {
     "name": "stdout",
     "output_type": "stream",
     "text": [
      "'tuple' object has no attribute 'insert'\n"
     ]
    }
   ],
   "source": [
    "try:\n",
    "    tpl.insert(1, 'xyz') # Throws an error\n",
    "except Exception as err:\n",
    "    print(err)"
   ]
  },
  {
   "cell_type": "code",
   "execution_count": 34,
   "metadata": {},
   "outputs": [
    {
     "name": "stdout",
     "output_type": "stream",
     "text": [
      "[1, '1', 2, 'text', 'xyz'], <class 'list'>\n"
     ]
    }
   ],
   "source": [
    "my_lst = list(tpl)\n",
    "my_lst.append('xyz')\n",
    "print(my_lst, type(my_lst), sep = ', ')"
   ]
  },
  {
   "cell_type": "code",
   "execution_count": 35,
   "metadata": {},
   "outputs": [
    {
     "name": "stdout",
     "output_type": "stream",
     "text": [
      "(1, '1', 2, 'text', 'xyz'), <class 'tuple'>\n"
     ]
    }
   ],
   "source": [
    "nv_tpl = tuple(my_lst) # Convert 'my_lst' into a tuple 'nv_tpl'\n",
    "print(nv_tpl, type(nv_tpl), sep = ', ')"
   ]
  },
  {
   "cell_type": "code",
   "execution_count": 36,
   "metadata": {},
   "outputs": [
    {
     "name": "stdout",
     "output_type": "stream",
     "text": [
      "1\n",
      "1\n",
      "2\n",
      "text\n",
      "xyz\n"
     ]
    }
   ],
   "source": [
    "# Loop\n",
    "for k in nv_tpl:\n",
    "    print(k)"
   ]
  },
  {
   "cell_type": "code",
   "execution_count": 37,
   "metadata": {},
   "outputs": [
    {
     "name": "stdout",
     "output_type": "stream",
     "text": [
      "(1, '1', 2, 'text', 1, '1', 2, 'text', 'xyz')\n"
     ]
    }
   ],
   "source": [
    "rs_tpl = tpl + nv_tpl\n",
    "print(rs_tpl)"
   ]
  },
  {
   "cell_type": "markdown",
   "metadata": {},
   "source": [
    "### Dictionaries"
   ]
  },
  {
   "cell_type": "code",
   "execution_count": 38,
   "metadata": {},
   "outputs": [
    {
     "name": "stdout",
     "output_type": "stream",
     "text": [
      "{'Term': 'GM', 'Speciality': 'ElnI', 'Sem': '4'}, <class 'dict'>\n"
     ]
    }
   ],
   "source": [
    "# dct = {\"key\": \"value\"}\n",
    "dct = {\n",
    "    \"Term\" : \"GM\",\n",
    "    \"Speciality\" : \"ElnI\",\n",
    "    \"Sem\" : \"4\"\n",
    "}\n",
    "print(dct, type(dct), sep = ', ')"
   ]
  },
  {
   "cell_type": "code",
   "execution_count": 39,
   "metadata": {},
   "outputs": [
    {
     "name": "stdout",
     "output_type": "stream",
     "text": [
      "4\n",
      "4\n"
     ]
    }
   ],
   "source": [
    "print(dct[\"Sem\"])\n",
    "sem = dct.get(\"Sem\")\n",
    "print(sem)"
   ]
  },
  {
   "cell_type": "code",
   "execution_count": 40,
   "metadata": {},
   "outputs": [
    {
     "name": "stdout",
     "output_type": "stream",
     "text": [
      "{'Term': 'GE', 'Speciality': 'ElnI', 'Sem': '4'}\n"
     ]
    }
   ],
   "source": [
    "dct[\"Term\"] = \"GE\"\n",
    "print(dct)"
   ]
  },
  {
   "cell_type": "code",
   "execution_count": 41,
   "metadata": {},
   "outputs": [
    {
     "name": "stdout",
     "output_type": "stream",
     "text": [
      "Term\t|\tGE\n",
      "Speciality\t|\tElnI\n",
      "Sem\t|\t4\n"
     ]
    }
   ],
   "source": [
    "# Loop\n",
    "for d in dct:\n",
    "    print(d, dct[d], sep = '\\t|\\t')"
   ]
  },
  {
   "cell_type": "code",
   "execution_count": 42,
   "metadata": {},
   "outputs": [
    {
     "name": "stdout",
     "output_type": "stream",
     "text": [
      "Term\n",
      "Speciality\n",
      "Sem\n"
     ]
    }
   ],
   "source": [
    "for k in dct.keys():\n",
    "    print(k)"
   ]
  },
  {
   "cell_type": "code",
   "execution_count": 43,
   "metadata": {},
   "outputs": [
    {
     "name": "stdout",
     "output_type": "stream",
     "text": [
      "GE\n",
      "ElnI\n",
      "4\n"
     ]
    }
   ],
   "source": [
    "for v in dct.values():\n",
    "    print(v)"
   ]
  },
  {
   "cell_type": "markdown",
   "metadata": {},
   "source": [
    "## NumPy"
   ]
  },
  {
   "cell_type": "markdown",
   "metadata": {},
   "source": [
    "*NumPy* is a *Python* library that is used for scientific computing and data analysis. It provides support for large, multi-dimensional arrays and matrices of numerical data, and a large library of mathematical functions to operate on these arrays.\n",
    "\n",
    "One of the main features of *NumPy* is its $N$-dimensional array object, which is used to store and manipulate large arrays of homogeneous data (_i.e._, data of the same type, such as integers or floating point values). The array object provides efficient operations for performing element-wise calculations, indexing, slicing, and reshaping.\n",
    "\n",
    "*NumPy* also includes a number of functions for performing statistical and mathematical operations on arrays, such as mean, standard deviation, and dot product. It also includes functions for linear algebra, random number generation, and Fourier transforms.\n",
    "\n",
    "Official documentation can be found at [https://numpy.org/](https://numpy.org/)\n"
   ]
  },
  {
   "cell_type": "code",
   "execution_count": 44,
   "metadata": {},
   "outputs": [],
   "source": [
    "import numpy as np"
   ]
  },
  {
   "cell_type": "markdown",
   "metadata": {},
   "source": [
    "_NumPy vs List_\n"
   ]
  },
  {
   "cell_type": "code",
   "execution_count": 45,
   "metadata": {},
   "outputs": [
    {
     "name": "stdout",
     "output_type": "stream",
     "text": [
      "a_np =  [0 1 2 3 4 5]\n",
      "<class 'numpy.ndarray'>\n",
      "a_lst =  [0, 1, 2, 3, 4, 5]\n",
      "<class 'list'>\n",
      "2 * a_np =  [ 0  2  4  6  8 10]\n",
      "2 * a_lst =  [0, 1, 2, 3, 4, 5, 0, 1, 2, 3, 4, 5]\n"
     ]
    }
   ],
   "source": [
    "a_np = np.arange(6) # NumPy\n",
    "print(\"a_np = \", a_np)\n",
    "print(type(a_np))\n",
    "a_lst = list(range(0,6)) # List\n",
    "print(\"a_lst = \", a_lst)\n",
    "print(type(a_lst))\n",
    "# Comparison\n",
    "print(\"2 * a_np = \", a_np * 2)\n",
    "print(\"2 * a_lst = \", a_lst * 2)"
   ]
  },
  {
   "cell_type": "code",
   "execution_count": 46,
   "metadata": {},
   "outputs": [
    {
     "name": "stdout",
     "output_type": "stream",
     "text": [
      "[1 2 3 4 5 6]\n"
     ]
    }
   ],
   "source": [
    "v_np = np.array([1, 2, 3, 4, 5, 6]) # NB : parentheses then brackets, i.e, ([])\n",
    "print(v_np)"
   ]
  },
  {
   "cell_type": "code",
   "execution_count": 47,
   "metadata": {},
   "outputs": [
    {
     "name": "stdout",
     "output_type": "stream",
     "text": [
      "[[ 1  2  3  4]\n",
      " [ 5  6  7  8]\n",
      " [ 9 10 11 12]]\n"
     ]
    }
   ],
   "source": [
    "v_np = np.array([[1, 2, 3, 4], [5, 6, 7, 8], [9, 10, 11, 12]])\n",
    "print(v_np)"
   ]
  },
  {
   "cell_type": "code",
   "execution_count": 48,
   "metadata": {},
   "outputs": [
    {
     "name": "stdout",
     "output_type": "stream",
     "text": [
      "<class 'numpy.ndarray'>\n"
     ]
    }
   ],
   "source": [
    "print(type(v_np))"
   ]
  },
  {
   "cell_type": "code",
   "execution_count": 49,
   "metadata": {},
   "outputs": [
    {
     "name": "stdout",
     "output_type": "stream",
     "text": [
      "[1 2 3 4]\n"
     ]
    }
   ],
   "source": [
    "print(v_np[0])"
   ]
  },
  {
   "cell_type": "code",
   "execution_count": 50,
   "metadata": {},
   "outputs": [
    {
     "data": {
      "text/plain": [
       "2"
      ]
     },
     "execution_count": 50,
     "metadata": {},
     "output_type": "execute_result"
    }
   ],
   "source": [
    "v_np.ndim # Dimensions of v_np"
   ]
  },
  {
   "cell_type": "code",
   "execution_count": 51,
   "metadata": {},
   "outputs": [
    {
     "data": {
      "text/plain": [
       "(3, 4)"
      ]
     },
     "execution_count": 51,
     "metadata": {},
     "output_type": "execute_result"
    }
   ],
   "source": [
    "v_np.shape # Number of lignes and columns, may be more"
   ]
  },
  {
   "cell_type": "code",
   "execution_count": 52,
   "metadata": {},
   "outputs": [
    {
     "data": {
      "text/plain": [
       "12"
      ]
     },
     "execution_count": 52,
     "metadata": {},
     "output_type": "execute_result"
    }
   ],
   "source": [
    "v_np.size # How many elements are in `v_np`"
   ]
  },
  {
   "cell_type": "markdown",
   "metadata": {},
   "source": [
    "If we need to create a matrix $(3, 3)$, we can do as follows:"
   ]
  },
  {
   "cell_type": "code",
   "execution_count": 53,
   "metadata": {},
   "outputs": [
    {
     "name": "stdout",
     "output_type": "stream",
     "text": [
      "[[0 1 2]\n",
      " [3 4 5]\n",
      " [6 7 8]]\n"
     ]
    }
   ],
   "source": [
    "u = np.arange(9).reshape(3,3)\n",
    "print(u)"
   ]
  },
  {
   "cell_type": "markdown",
   "metadata": {},
   "source": [
    "Let us see some known operations to do on matrices"
   ]
  },
  {
   "cell_type": "code",
   "execution_count": 54,
   "metadata": {},
   "outputs": [
    {
     "name": "stdout",
     "output_type": "stream",
     "text": [
      "[[1 2]\n",
      " [1 2]]\n"
     ]
    }
   ],
   "source": [
    "M = np.array([[1, 2], [1, 2]])\n",
    "print(M)"
   ]
  },
  {
   "cell_type": "code",
   "execution_count": 55,
   "metadata": {},
   "outputs": [
    {
     "name": "stdout",
     "output_type": "stream",
     "text": [
      "[[0 3]\n",
      " [4 5]]\n"
     ]
    }
   ],
   "source": [
    "N = np.array([[0, 3], [4, 5]])\n",
    "print(N)"
   ]
  },
  {
   "cell_type": "markdown",
   "metadata": {},
   "source": [
    "_Addition_\n"
   ]
  },
  {
   "cell_type": "code",
   "execution_count": 56,
   "metadata": {},
   "outputs": [
    {
     "name": "stdout",
     "output_type": "stream",
     "text": [
      "[[1 5]\n",
      " [5 7]]\n",
      "[[1 5]\n",
      " [5 7]]\n"
     ]
    }
   ],
   "source": [
    "print(M + N)\n",
    "print(np.add(M, N))"
   ]
  },
  {
   "cell_type": "markdown",
   "metadata": {},
   "source": [
    "_Subtraction_\n"
   ]
  },
  {
   "cell_type": "code",
   "execution_count": 57,
   "metadata": {},
   "outputs": [
    {
     "name": "stdout",
     "output_type": "stream",
     "text": [
      "[[ 1 -1]\n",
      " [-3 -3]]\n",
      "[[ 1 -1]\n",
      " [-3 -3]]\n"
     ]
    }
   ],
   "source": [
    "print(M-N)\n",
    "print(np.subtract(M, N))"
   ]
  },
  {
   "cell_type": "markdown",
   "metadata": {},
   "source": [
    "_Element-wise Product_\n"
   ]
  },
  {
   "cell_type": "markdown",
   "metadata": {},
   "source": [
    "Element-wise multiplication, also known as **Hadamard product**, is an operation that multiplies each element of one matrix with the corresponding element of another matrix. It is denoted by the symbol $\\odot$ or `.*` in some programming languages.\n",
    "\n",
    "For example, consider the following matrices:\n",
    "\n",
    "$$A = \\left[\\begin{array}{ccc}a_1,& a_2,& a_3\\end{array}\\right] \\qquad\\text{and}\\qquad B = \\left[\\begin{array}{ccc}b_1,& b_2,& b_3\\end{array}\\right]$$\n",
    "\n",
    "\n",
    "The element-wise product of these matrices is:\n",
    "\n",
    "$$A \\odot B = \\left[\\begin{array}{ccc}a_1b_1,& a_2b_2,& a_3b_3\\end{array}\\right]$$\n",
    "\n",
    "\n",
    "$$\n",
    "\\left[\\begin{array}{cc}1&2\\\\1&2\\end{array}\\right]\n",
    ".\\times\n",
    "\\left[\\begin{array}{cc}0&3\\\\4&5\\end{array}\\right]\n",
    "\\quad =\\quad\n",
    "\\left[\\begin{array}{cc}0&6\\\\4&10\\end{array}\\right]\n",
    "$$\n",
    "\n",
    "\n",
    "We need element-wise multiplication in many applications. For example, in image processing, element-wise multiplication is used to modify the intensity values of an image by multiplying each pixel value with a scalar value. In machine learning, element-wise multiplication is used in the implementation of various neural network layers, such as convolutional layers and fully connected layers. Element-wise multiplication is also used in many other mathematical and scientific applications."
   ]
  },
  {
   "cell_type": "code",
   "execution_count": 58,
   "metadata": {},
   "outputs": [
    {
     "name": "stdout",
     "output_type": "stream",
     "text": [
      "[[ 0  6]\n",
      " [ 4 10]]\n",
      "[[ 0  6]\n",
      " [ 4 10]]\n"
     ]
    }
   ],
   "source": [
    "print(M * N)\n",
    "print(np.multiply(M, N))"
   ]
  },
  {
   "cell_type": "markdown",
   "metadata": {},
   "source": [
    "_Dot Product_\n"
   ]
  },
  {
   "cell_type": "markdown",
   "metadata": {},
   "source": [
    "$$\n",
    "\\left[\\begin{array}{cc}1&2\\\\1&2\\end{array}\\right]\n",
    "\\times\n",
    "\\left[\\begin{array}{cc}0&3\\\\4&5\\end{array}\\right]\n",
    "\\quad =\\quad\n",
    "\\left[\\begin{array}{cc}8&13\\\\8&13\\end{array}\\right]\n",
    "$$\n"
   ]
  },
  {
   "cell_type": "code",
   "execution_count": 59,
   "metadata": {},
   "outputs": [
    {
     "name": "stdout",
     "output_type": "stream",
     "text": [
      "[[ 8 13]\n",
      " [ 8 13]]\n",
      "[[ 8 13]\n",
      " [ 8 13]]\n"
     ]
    }
   ],
   "source": [
    "print(M.dot(N))\n",
    "print(np.dot(M, N))"
   ]
  },
  {
   "cell_type": "markdown",
   "metadata": {},
   "source": [
    "_Element-wise Division_\n"
   ]
  },
  {
   "cell_type": "markdown",
   "metadata": {},
   "source": [
    "$$\n",
    "\\left[\\begin{array}{cc}0&3\\\\4&5\\end{array}\\right]\n",
    "./\n",
    "\\left[\\begin{array}{cc}1&2\\\\1&2\\end{array}\\right]\n",
    "\\quad =\\quad\n",
    "\\left[\\begin{array}{cc}0:1&3:2\\\\4:1&5:2\\end{array}\\right]\n",
    "$$\n"
   ]
  },
  {
   "cell_type": "code",
   "execution_count": 60,
   "metadata": {},
   "outputs": [
    {
     "name": "stdout",
     "output_type": "stream",
     "text": [
      "[[0.  1.5]\n",
      " [4.  2.5]]\n",
      "[[0.  1.5]\n",
      " [4.  2.5]]\n"
     ]
    }
   ],
   "source": [
    "print(N / M)\n",
    "print(np.divide(N, M))"
   ]
  },
  {
   "cell_type": "markdown",
   "metadata": {},
   "source": [
    "_Determinant of a matrix_\n"
   ]
  },
  {
   "cell_type": "code",
   "execution_count": 61,
   "metadata": {},
   "outputs": [
    {
     "name": "stdout",
     "output_type": "stream",
     "text": [
      "Determinant of M:\n",
      "0.0\n",
      "Determinant of N:\n",
      "-12.0\n"
     ]
    }
   ],
   "source": [
    "print(\"Determinant of M:\")\n",
    "print(np.linalg.det(M))\n",
    "print(\"Determinant of N:\")\n",
    "print(np.linalg.det(N))"
   ]
  },
  {
   "cell_type": "markdown",
   "metadata": {},
   "source": [
    "## Matplotlib"
   ]
  },
  {
   "cell_type": "markdown",
   "metadata": {},
   "source": [
    "*Matplotlib* is a $2$D data visualization library in *Python* that allows users to create a wide range of static, animated, and interactive visualizations in *Python*. It is one of the most widely used data visualization libraries in the *Python* data science ecosystem and is particularly useful for creating line plots, scatter plots, bar plots, error bars, histograms, bar charts, pie charts, box plots, and many other types of visualizations.\n",
    "\n",
    "*Matplotlib* is built on top of *NumPy* and is often used in conjunction with other libraries in the PyData ecosystem, such as *Pandas* and *Seaborn*, to create complex visualizations of data. It is also compatible with a number of different backends, such as the _Jupyter notebook_, _Qt_, and _Tkinter_, which allows it to be used in a wide range of environments and contexts.\n",
    "\n",
    "The full documentation and an exhaustive list of samples can be found at [https://matplotlib.org/](https://matplotlib.org/)"
   ]
  },
  {
   "cell_type": "code",
   "execution_count": 62,
   "metadata": {},
   "outputs": [],
   "source": [
    "import numpy as np\n",
    "from matplotlib import pyplot as plt\n",
    "\n",
    "plt.style.use(\"ggplot\")\n",
    "plt.rcParams['figure.figsize'] = [8, 4]"
   ]
  },
  {
   "cell_type": "markdown",
   "metadata": {},
   "source": [
    "We begin by creating a sinusoidal waveform denoted by $x$, period is $1$ sec. The offset is $1$."
   ]
  },
  {
   "cell_type": "code",
   "execution_count": 63,
   "metadata": {},
   "outputs": [],
   "source": [
    "# Continuous function\n",
    "t = np.arange(0.0, 2.0, 0.01)\n",
    "x = 1 + np.sin(2 * np.pi * t) # Frequency = 1Hz"
   ]
  },
  {
   "cell_type": "markdown",
   "metadata": {},
   "source": [
    "The set of instructions that allow to plot \\(x\\) are:"
   ]
  },
  {
   "cell_type": "code",
   "execution_count": 64,
   "metadata": {},
   "outputs": [
    {
     "data": {
      "image/png": "[encoded data removed]",
      "text/plain": [
       "<Figure size 800x400 with 1 Axes>"
      ]
     },
     "metadata": {},
     "output_type": "display_data"
    }
   ],
   "source": [
    "plt.plot(t, x)\n",
    "\n",
    "# Give the graph a title\n",
    "plt.title(r\"$x(t) = 1+\\sin\\left(2\\pi\\frac{t}{1}\\right)$\")\n",
    "plt.xlabel(\"$t$ (sec)\"); # Label the axis"
   ]
  },
  {
   "cell_type": "code",
   "execution_count": 65,
   "metadata": {},
   "outputs": [],
   "source": [
    "# Discret Function\n",
    "t = np.arange(0.0, 2.0, 0.1)\n",
    "y = np.sin(2*np.pi*t) # Same thing! Sinusoidal signal"
   ]
  },
  {
   "cell_type": "code",
   "execution_count": 66,
   "metadata": {},
   "outputs": [
    {
     "data": {
      "text/plain": [
       "Text(0.5, 0, '$t$ (sec)')"
      ]
     },
     "execution_count": 66,
     "metadata": {},
     "output_type": "execute_result"
    },
    {
     "data": {
      "image/png": "[encoded data removed]",
      "text/plain": [
       "<Figure size 800x400 with 1 Axes>"
      ]
     },
     "metadata": {},
     "output_type": "display_data"
    }
   ],
   "source": [
    "plt.stem(t, y)\n",
    "plt.xlabel(\"$t$ (sec)\")"
   ]
  },
  {
   "cell_type": "code",
   "execution_count": 67,
   "metadata": {},
   "outputs": [],
   "source": [
    "x = np.logspace(-2, 3, 100)\n",
    "y = np.log10(x)"
   ]
  },
  {
   "cell_type": "code",
   "execution_count": 68,
   "metadata": {
    "tags": []
   },
   "outputs": [
    {
     "data": {
      "text/plain": [
       "\u001b[0;31mCall signature:\u001b[0m  \u001b[0mnp\u001b[0m\u001b[0;34m.\u001b[0m\u001b[0mlog10\u001b[0m\u001b[0;34m(\u001b[0m\u001b[0;34m*\u001b[0m\u001b[0margs\u001b[0m\u001b[0;34m,\u001b[0m \u001b[0;34m**\u001b[0m\u001b[0mkwargs\u001b[0m\u001b[0;34m)\u001b[0m\u001b[0;34m\u001b[0m\u001b[0;34m\u001b[0m\u001b[0m\n",
       "\u001b[0;31mType:\u001b[0m            ufunc\n",
       "\u001b[0;31mString form:\u001b[0m     <ufunc 'log10'>\n",
       "\u001b[0;31mFile:\u001b[0m            ~/MEGA/git-repos/AI-ML-DL/mlpy/Codes/Python/pvenv/lib/python3.10/site-packages/numpy/__init__.py\n",
       "\u001b[0;31mDocstring:\u001b[0m      \n",
       "log10(x, /, out=None, *, where=True, casting='same_kind', order='K', dtype=None, subok=True[, signature, extobj])\n",
       "\n",
       "Return the base 10 logarithm of the input array, element-wise.\n",
       "\n",
       "Parameters\n",
       "----------\n",
       "x : array_like\n",
       "    Input values.\n",
       "out : ndarray, None, or tuple of ndarray and None, optional\n",
       "    A location into which the result is stored. If provided, it must have\n",
       "    a shape that the inputs broadcast to. If not provided or None,\n",
       "    a freshly-allocated array is returned. A tuple (possible only as a\n",
       "    keyword argument) must have length equal to the number of outputs.\n",
       "where : array_like, optional\n",
       "    This condition is broadcast over the input. At locations where the\n",
       "    condition is True, the `out` array will be set to the ufunc result.\n",
       "    Elsewhere, the `out` array will retain its original value.\n",
       "    Note that if an uninitialized `out` array is created via the default\n",
       "    ``out=None``, locations within it where the condition is False will\n",
       "    remain uninitialized.\n",
       "**kwargs\n",
       "    For other keyword-only arguments, see the\n",
       "    :ref:`ufunc docs <ufuncs.kwargs>`.\n",
       "\n",
       "Returns\n",
       "-------\n",
       "y : ndarray\n",
       "    The logarithm to the base 10 of `x`, element-wise. NaNs are\n",
       "    returned where x is negative.\n",
       "    This is a scalar if `x` is a scalar.\n",
       "\n",
       "See Also\n",
       "--------\n",
       "emath.log10\n",
       "\n",
       "Notes\n",
       "-----\n",
       "Logarithm is a multivalued function: for each `x` there is an infinite\n",
       "number of `z` such that `10**z = x`. The convention is to return the\n",
       "`z` whose imaginary part lies in `(-pi, pi]`.\n",
       "\n",
       "For real-valued input data types, `log10` always returns real output.\n",
       "For each value that cannot be expressed as a real number or infinity,\n",
       "it yields ``nan`` and sets the `invalid` floating point error flag.\n",
       "\n",
       "For complex-valued input, `log10` is a complex analytical function that\n",
       "has a branch cut `[-inf, 0]` and is continuous from above on it.\n",
       "`log10` handles the floating-point negative zero as an infinitesimal\n",
       "negative number, conforming to the C99 standard.\n",
       "\n",
       "In the cases where the input has a negative real part and a very small\n",
       "negative complex part (approaching 0), the result is so close to `-pi`\n",
       "that it evaluates to exactly `-pi`.\n",
       "\n",
       "References\n",
       "----------\n",
       ".. [1] M. Abramowitz and I.A. Stegun, \"Handbook of Mathematical Functions\",\n",
       "       10th printing, 1964, pp. 67.\n",
       "       https://personal.math.ubc.ca/~cbm/aands/page_67.htm\n",
       ".. [2] Wikipedia, \"Logarithm\". https://en.wikipedia.org/wiki/Logarithm\n",
       "\n",
       "Examples\n",
       "--------\n",
       ">>> np.log10([1e-15, -3.])\n",
       "array([-15.,  nan])\n",
       "\u001b[0;31mClass docstring:\u001b[0m\n",
       "Functions that operate element by element on whole arrays.\n",
       "\n",
       "To see the documentation for a specific ufunc, use `info`.  For\n",
       "example, ``np.info(np.sin)``.  Because ufuncs are written in C\n",
       "(for speed) and linked into Python with NumPy's ufunc facility,\n",
       "Python's help() function finds this page whenever help() is called\n",
       "on a ufunc.\n",
       "\n",
       "A detailed explanation of ufuncs can be found in the docs for :ref:`ufuncs`.\n",
       "\n",
       "**Calling ufuncs:** ``op(*x[, out], where=True, **kwargs)``\n",
       "\n",
       "Apply `op` to the arguments `*x` elementwise, broadcasting the arguments.\n",
       "\n",
       "The broadcasting rules are:\n",
       "\n",
       "* Dimensions of length 1 may be prepended to either array.\n",
       "* Arrays may be repeated along dimensions of length 1.\n",
       "\n",
       "Parameters\n",
       "----------\n",
       "*x : array_like\n",
       "    Input arrays.\n",
       "out : ndarray, None, or tuple of ndarray and None, optional\n",
       "    Alternate array object(s) in which to put the result; if provided, it\n",
       "    must have a shape that the inputs broadcast to. A tuple of arrays\n",
       "    (possible only as a keyword argument) must have length equal to the\n",
       "    number of outputs; use None for uninitialized outputs to be\n",
       "    allocated by the ufunc.\n",
       "where : array_like, optional\n",
       "    This condition is broadcast over the input. At locations where the\n",
       "    condition is True, the `out` array will be set to the ufunc result.\n",
       "    Elsewhere, the `out` array will retain its original value.\n",
       "    Note that if an uninitialized `out` array is created via the default\n",
       "    ``out=None``, locations within it where the condition is False will\n",
       "    remain uninitialized.\n",
       "**kwargs\n",
       "    For other keyword-only arguments, see the :ref:`ufunc docs <ufuncs.kwargs>`.\n",
       "\n",
       "Returns\n",
       "-------\n",
       "r : ndarray or tuple of ndarray\n",
       "    `r` will have the shape that the arrays in `x` broadcast to; if `out` is\n",
       "    provided, it will be returned. If not, `r` will be allocated and\n",
       "    may contain uninitialized values. If the function has more than one\n",
       "    output, then the result will be a tuple of arrays."
      ]
     },
     "metadata": {},
     "output_type": "display_data"
    }
   ],
   "source": [
    "np.log10?"
   ]
  },
  {
   "cell_type": "code",
   "execution_count": 69,
   "metadata": {},
   "outputs": [
    {
     "data": {
      "text/plain": [
       "[<matplotlib.lines.Line2D at 0x7f55f738c100>]"
      ]
     },
     "execution_count": 69,
     "metadata": {},
     "output_type": "execute_result"
    },
    {
     "data": {
      "image/png": "[encoded data removed]",
      "text/plain": [
       "<Figure size 800x400 with 1 Axes>"
      ]
     },
     "metadata": {},
     "output_type": "display_data"
    }
   ],
   "source": [
    "plt.plot(x, y)"
   ]
  },
  {
   "cell_type": "code",
   "execution_count": 70,
   "metadata": {},
   "outputs": [
    {
     "data": {
      "text/plain": [
       "[<matplotlib.lines.Line2D at 0x7f55b5337b20>]"
      ]
     },
     "execution_count": 70,
     "metadata": {},
     "output_type": "execute_result"
    },
    {
     "data": {
      "image/png": "[encoded data removed]",
      "text/plain": [
       "<Figure size 800x400 with 1 Axes>"
      ]
     },
     "metadata": {},
     "output_type": "display_data"
    }
   ],
   "source": [
    "plt.semilogx(x, y)"
   ]
  },
  {
   "cell_type": "markdown",
   "metadata": {},
   "source": [
    "**About distributions**"
   ]
  },
  {
   "cell_type": "code",
   "execution_count": 71,
   "metadata": {},
   "outputs": [],
   "source": [
    "a = np.random.randn(2**16) # Normal Distribution\n",
    "b = np.random.rand(2**16) # Uniform Distribution"
   ]
  },
  {
   "cell_type": "code",
   "execution_count": 72,
   "metadata": {},
   "outputs": [
    {
     "data": {
      "image/png": "[encoded data removed]",
      "text/plain": [
       "<Figure size 800x400 with 2 Axes>"
      ]
     },
     "metadata": {},
     "output_type": "display_data"
    }
   ],
   "source": [
    "_, ax = plt.subplots(1, 2)\n",
    "ax[0].hist(a, bins=16)\n",
    "ax[1].hist(b, bins=16);"
   ]
  },
  {
   "cell_type": "code",
   "execution_count": 73,
   "metadata": {},
   "outputs": [
    {
     "data": {
      "image/png": "[encoded data removed]",
      "text/plain": [
       "<Figure size 800x400 with 4 Axes>"
      ]
     },
     "metadata": {},
     "output_type": "display_data"
    }
   ],
   "source": [
    "_, ax = plt.subplots(2, 2)\n",
    "ax[0][0].hist2d(a, a, bins=32)\n",
    "ax[0][1].hist2d(a, b, bins=32)\n",
    "ax[1][0].hist2d(b, a, bins=32)\n",
    "ax[1][1].hist2d(b, b, bins=32);"
   ]
  },
  {
   "cell_type": "code",
   "execution_count": null,
   "metadata": {},
   "outputs": [],
   "source": []
  }
 ],
 "metadata": {
  "kernelspec": {
   "display_name": "Python 3 (ipykernel)",
   "language": "python",
   "name": "python3"
  },
  "language_info": {
   "codemirror_mode": {
    "name": "ipython",
    "version": 3
   },
   "file_extension": ".py",
   "mimetype": "text/x-python",
   "name": "python",
   "nbconvert_exporter": "python",
   "pygments_lexer": "ipython3",
   "version": "3.10.12"
  },
  "vscode": {
   "interpreter": {
    "hash": "31f2aee4e71d21fbe5cf8b01ff0e069b9275f58929596ceb00d14d90e3e16cd6"
   }
  }
 },
 "nbformat": 4,
 "nbformat_minor": 4
}
