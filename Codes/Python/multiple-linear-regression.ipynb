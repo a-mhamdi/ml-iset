{
 "cells": [
  {
   "cell_type": "markdown",
   "metadata": {},
   "source": [
    "# Machine Learning\n",
    "---"
   ]
  },
  {
   "cell_type": "markdown",
   "metadata": {},
   "source": [
    "**Textbook is available @ [https://www.github.com/a-mhamdi/mlpy](https://www.github.com/a-mhamdi/mlpy)**"
   ]
  },
  {
   "cell_type": "markdown",
   "metadata": {
    "colab_type": "text",
    "id": "CazISR8X_HUG"
   },
   "source": [
    "## Multiple Linear Regression"
   ]
  },
  {
   "cell_type": "markdown",
   "metadata": {},
   "source": [
    "Multiple linear regression is a type of regression analysis in which the relationship between the dependent variable and one or more independent variables is modeled using a linear equation. Multiple linear regression is used when there are multiple independent variables that might have an effect on the dependent variable.\n",
    "\n",
    "In multiple linear regression, the goal is to find the linear equation that best explains the relationship between the dependent variable and the independent variables in $X$. The equation takes the form:\n",
    "\n",
    "$$y \\;=\\; \\theta_0 + \\theta_1 x_1 + \\theta_2 x_2 + \\cdots + \\theta_n x_n$$\n",
    "\n",
    "where $y$ is the dependent variable, $x_1$, $x_2$, ..., $x_n$ are the independent variables, and $\\theta_0$, $\\theta_1$, $\\theta_2$, ..., $\\theta_n$ are the coefficients that represent the influence of each variable on the output $y$. The coefficients are estimated using the data, and the resulting equation is used to make predictions on new data."
   ]
  },
  {
   "cell_type": "markdown",
   "metadata": {
    "colab_type": "text",
    "id": "pOyqYHTk_Q57"
   },
   "source": [
    "### Importing the libraries"
   ]
  },
  {
   "cell_type": "code",
   "execution_count": 1,
   "metadata": {
    "colab": {},
    "colab_type": "code",
    "id": "T_YHJjnD_Tja"
   },
   "outputs": [],
   "source": [
    "import numpy as np\n",
    "import pandas as pd\n",
    "from matplotlib import pyplot as plt"
   ]
  },
  {
   "cell_type": "code",
   "execution_count": 2,
   "metadata": {},
   "outputs": [],
   "source": [
    "np.set_printoptions(precision=3)"
   ]
  },
  {
   "cell_type": "code",
   "execution_count": 3,
   "metadata": {},
   "outputs": [],
   "source": [
    "# Show plots in an interactive format, e.g., zooming, saving, etc\n",
    "%matplotlib widget"
   ]
  },
  {
   "cell_type": "code",
   "execution_count": 4,
   "metadata": {},
   "outputs": [],
   "source": [
    "plt.style.use('ggplot')"
   ]
  },
  {
   "cell_type": "markdown",
   "metadata": {
    "colab_type": "text",
    "id": "vgC61-ah_WIz"
   },
   "source": [
    "### Importing the dataset"
   ]
  },
  {
   "cell_type": "code",
   "execution_count": 5,
   "metadata": {
    "colab": {},
    "colab_type": "code",
    "id": "UrxyEKGn_ez7"
   },
   "outputs": [],
   "source": [
    "df = pd.read_csv('./datasets/50_Startups.csv')"
   ]
  },
  {
   "cell_type": "code",
   "execution_count": 6,
   "metadata": {},
   "outputs": [
    {
     "data": {
      "text/html": [
       "<div>\n",
       "<style scoped>\n",
       "    .dataframe tbody tr th:only-of-type {\n",
       "        vertical-align: middle;\n",
       "    }\n",
       "\n",
       "    .dataframe tbody tr th {\n",
       "        vertical-align: top;\n",
       "    }\n",
       "\n",
       "    .dataframe thead th {\n",
       "        text-align: right;\n",
       "    }\n",
       "</style>\n",
       "<table border=\"1\" class=\"dataframe\">\n",
       "  <thead>\n",
       "    <tr style=\"text-align: right;\">\n",
       "      <th></th>\n",
       "      <th>R&amp;D Spend</th>\n",
       "      <th>Administration</th>\n",
       "      <th>Marketing Spend</th>\n",
       "      <th>State</th>\n",
       "      <th>Profit</th>\n",
       "    </tr>\n",
       "  </thead>\n",
       "  <tbody>\n",
       "    <tr>\n",
       "      <th>0</th>\n",
       "      <td>165349.20</td>\n",
       "      <td>136897.80</td>\n",
       "      <td>471784.10</td>\n",
       "      <td>New York</td>\n",
       "      <td>192261.83</td>\n",
       "    </tr>\n",
       "    <tr>\n",
       "      <th>1</th>\n",
       "      <td>162597.70</td>\n",
       "      <td>151377.59</td>\n",
       "      <td>443898.53</td>\n",
       "      <td>California</td>\n",
       "      <td>191792.06</td>\n",
       "    </tr>\n",
       "    <tr>\n",
       "      <th>2</th>\n",
       "      <td>153441.51</td>\n",
       "      <td>101145.55</td>\n",
       "      <td>407934.54</td>\n",
       "      <td>Florida</td>\n",
       "      <td>191050.39</td>\n",
       "    </tr>\n",
       "    <tr>\n",
       "      <th>3</th>\n",
       "      <td>144372.41</td>\n",
       "      <td>118671.85</td>\n",
       "      <td>383199.62</td>\n",
       "      <td>New York</td>\n",
       "      <td>182901.99</td>\n",
       "    </tr>\n",
       "    <tr>\n",
       "      <th>4</th>\n",
       "      <td>142107.34</td>\n",
       "      <td>91391.77</td>\n",
       "      <td>366168.42</td>\n",
       "      <td>Florida</td>\n",
       "      <td>166187.94</td>\n",
       "    </tr>\n",
       "  </tbody>\n",
       "</table>\n",
       "</div>"
      ],
      "text/plain": [
       "   R&D Spend  Administration  Marketing Spend       State     Profit\n",
       "0  165349.20       136897.80        471784.10    New York  192261.83\n",
       "1  162597.70       151377.59        443898.53  California  191792.06\n",
       "2  153441.51       101145.55        407934.54     Florida  191050.39\n",
       "3  144372.41       118671.85        383199.62    New York  182901.99\n",
       "4  142107.34        91391.77        366168.42     Florida  166187.94"
      ]
     },
     "execution_count": 6,
     "metadata": {},
     "output_type": "execute_result"
    }
   ],
   "source": [
    "df.head()"
   ]
  },
  {
   "cell_type": "code",
   "execution_count": 7,
   "metadata": {},
   "outputs": [
    {
     "name": "stdout",
     "output_type": "stream",
     "text": [
      "<class 'pandas.core.frame.DataFrame'>\n",
      "RangeIndex: 50 entries, 0 to 49\n",
      "Data columns (total 5 columns):\n",
      " #   Column           Non-Null Count  Dtype  \n",
      "---  ------           --------------  -----  \n",
      " 0   R&D Spend        50 non-null     float64\n",
      " 1   Administration   50 non-null     float64\n",
      " 2   Marketing Spend  50 non-null     float64\n",
      " 3   State            50 non-null     object \n",
      " 4   Profit           50 non-null     float64\n",
      "dtypes: float64(4), object(1)\n",
      "memory usage: 2.1+ KB\n"
     ]
    }
   ],
   "source": [
    "df.info()"
   ]
  },
  {
   "cell_type": "code",
   "execution_count": 8,
   "metadata": {},
   "outputs": [
    {
     "data": {
      "text/html": [
       "<div>\n",
       "<style scoped>\n",
       "    .dataframe tbody tr th:only-of-type {\n",
       "        vertical-align: middle;\n",
       "    }\n",
       "\n",
       "    .dataframe tbody tr th {\n",
       "        vertical-align: top;\n",
       "    }\n",
       "\n",
       "    .dataframe thead th {\n",
       "        text-align: right;\n",
       "    }\n",
       "</style>\n",
       "<table border=\"1\" class=\"dataframe\">\n",
       "  <thead>\n",
       "    <tr style=\"text-align: right;\">\n",
       "      <th></th>\n",
       "      <th>R&amp;D Spend</th>\n",
       "      <th>Administration</th>\n",
       "      <th>Marketing Spend</th>\n",
       "      <th>Profit</th>\n",
       "    </tr>\n",
       "  </thead>\n",
       "  <tbody>\n",
       "    <tr>\n",
       "      <th>count</th>\n",
       "      <td>50.000000</td>\n",
       "      <td>50.000000</td>\n",
       "      <td>50.000000</td>\n",
       "      <td>50.000000</td>\n",
       "    </tr>\n",
       "    <tr>\n",
       "      <th>mean</th>\n",
       "      <td>73721.615600</td>\n",
       "      <td>121344.639600</td>\n",
       "      <td>211025.097800</td>\n",
       "      <td>112012.639200</td>\n",
       "    </tr>\n",
       "    <tr>\n",
       "      <th>std</th>\n",
       "      <td>45902.256482</td>\n",
       "      <td>28017.802755</td>\n",
       "      <td>122290.310726</td>\n",
       "      <td>40306.180338</td>\n",
       "    </tr>\n",
       "    <tr>\n",
       "      <th>min</th>\n",
       "      <td>0.000000</td>\n",
       "      <td>51283.140000</td>\n",
       "      <td>0.000000</td>\n",
       "      <td>14681.400000</td>\n",
       "    </tr>\n",
       "    <tr>\n",
       "      <th>25%</th>\n",
       "      <td>39936.370000</td>\n",
       "      <td>103730.875000</td>\n",
       "      <td>129300.132500</td>\n",
       "      <td>90138.902500</td>\n",
       "    </tr>\n",
       "    <tr>\n",
       "      <th>50%</th>\n",
       "      <td>73051.080000</td>\n",
       "      <td>122699.795000</td>\n",
       "      <td>212716.240000</td>\n",
       "      <td>107978.190000</td>\n",
       "    </tr>\n",
       "    <tr>\n",
       "      <th>75%</th>\n",
       "      <td>101602.800000</td>\n",
       "      <td>144842.180000</td>\n",
       "      <td>299469.085000</td>\n",
       "      <td>139765.977500</td>\n",
       "    </tr>\n",
       "    <tr>\n",
       "      <th>max</th>\n",
       "      <td>165349.200000</td>\n",
       "      <td>182645.560000</td>\n",
       "      <td>471784.100000</td>\n",
       "      <td>192261.830000</td>\n",
       "    </tr>\n",
       "  </tbody>\n",
       "</table>\n",
       "</div>"
      ],
      "text/plain": [
       "           R&D Spend  Administration  Marketing Spend         Profit\n",
       "count      50.000000       50.000000        50.000000      50.000000\n",
       "mean    73721.615600   121344.639600    211025.097800  112012.639200\n",
       "std     45902.256482    28017.802755    122290.310726   40306.180338\n",
       "min         0.000000    51283.140000         0.000000   14681.400000\n",
       "25%     39936.370000   103730.875000    129300.132500   90138.902500\n",
       "50%     73051.080000   122699.795000    212716.240000  107978.190000\n",
       "75%    101602.800000   144842.180000    299469.085000  139765.977500\n",
       "max    165349.200000   182645.560000    471784.100000  192261.830000"
      ]
     },
     "execution_count": 8,
     "metadata": {},
     "output_type": "execute_result"
    }
   ],
   "source": [
    "df.describe()"
   ]
  },
  {
   "cell_type": "markdown",
   "metadata": {},
   "source": [
    "Extract features $X$ and target $y$ from the dataset. **Profit** is the dependant variable."
   ]
  },
  {
   "cell_type": "code",
   "execution_count": 9,
   "metadata": {},
   "outputs": [],
   "source": [
    "X = df.iloc[:, :-1]\n",
    "y = df.iloc[:, -1]"
   ]
  },
  {
   "cell_type": "markdown",
   "metadata": {},
   "source": [
    "Check the first five observations within $X$"
   ]
  },
  {
   "cell_type": "code",
   "execution_count": 10,
   "metadata": {
    "colab": {
     "base_uri": "https://localhost:8080/",
     "height": 857
    },
    "colab_type": "code",
    "executionInfo": {
     "elapsed": 552,
     "status": "ok",
     "timestamp": 1586353652778,
     "user": {
      "displayName": "Hadelin de Ponteves",
      "photoUrl": "https://lh3.googleusercontent.com/a-/AOh14GhEuXdT7eQweUmRPW8_laJuPggSK6hfvpl5a6WBaA=s64",
      "userId": "15047218817161520419"
     },
     "user_tz": -240
    },
    "id": "GOB3QhV9B5kD",
    "outputId": "4a05377a-2db2-43fc-b824-a0710448baee"
   },
   "outputs": [
    {
     "data": {
      "text/html": [
       "<div>\n",
       "<style scoped>\n",
       "    .dataframe tbody tr th:only-of-type {\n",
       "        vertical-align: middle;\n",
       "    }\n",
       "\n",
       "    .dataframe tbody tr th {\n",
       "        vertical-align: top;\n",
       "    }\n",
       "\n",
       "    .dataframe thead th {\n",
       "        text-align: right;\n",
       "    }\n",
       "</style>\n",
       "<table border=\"1\" class=\"dataframe\">\n",
       "  <thead>\n",
       "    <tr style=\"text-align: right;\">\n",
       "      <th></th>\n",
       "      <th>R&amp;D Spend</th>\n",
       "      <th>Administration</th>\n",
       "      <th>Marketing Spend</th>\n",
       "      <th>State</th>\n",
       "    </tr>\n",
       "  </thead>\n",
       "  <tbody>\n",
       "    <tr>\n",
       "      <th>0</th>\n",
       "      <td>165349.20</td>\n",
       "      <td>136897.80</td>\n",
       "      <td>471784.10</td>\n",
       "      <td>New York</td>\n",
       "    </tr>\n",
       "    <tr>\n",
       "      <th>1</th>\n",
       "      <td>162597.70</td>\n",
       "      <td>151377.59</td>\n",
       "      <td>443898.53</td>\n",
       "      <td>California</td>\n",
       "    </tr>\n",
       "    <tr>\n",
       "      <th>2</th>\n",
       "      <td>153441.51</td>\n",
       "      <td>101145.55</td>\n",
       "      <td>407934.54</td>\n",
       "      <td>Florida</td>\n",
       "    </tr>\n",
       "    <tr>\n",
       "      <th>3</th>\n",
       "      <td>144372.41</td>\n",
       "      <td>118671.85</td>\n",
       "      <td>383199.62</td>\n",
       "      <td>New York</td>\n",
       "    </tr>\n",
       "    <tr>\n",
       "      <th>4</th>\n",
       "      <td>142107.34</td>\n",
       "      <td>91391.77</td>\n",
       "      <td>366168.42</td>\n",
       "      <td>Florida</td>\n",
       "    </tr>\n",
       "  </tbody>\n",
       "</table>\n",
       "</div>"
      ],
      "text/plain": [
       "   R&D Spend  Administration  Marketing Spend       State\n",
       "0  165349.20       136897.80        471784.10    New York\n",
       "1  162597.70       151377.59        443898.53  California\n",
       "2  153441.51       101145.55        407934.54     Florida\n",
       "3  144372.41       118671.85        383199.62    New York\n",
       "4  142107.34        91391.77        366168.42     Florida"
      ]
     },
     "execution_count": 10,
     "metadata": {},
     "output_type": "execute_result"
    }
   ],
   "source": [
    "X.head()"
   ]
  },
  {
   "cell_type": "code",
   "execution_count": 11,
   "metadata": {
    "tags": []
   },
   "outputs": [
    {
     "data": {
      "text/plain": [
       "numpy.ndarray"
      ]
     },
     "execution_count": 11,
     "metadata": {},
     "output_type": "execute_result"
    }
   ],
   "source": [
    "X = X.values\n",
    "type(X)"
   ]
  },
  {
   "cell_type": "markdown",
   "metadata": {},
   "source": [
    "Check the corresponding first five values from **Profit** column."
   ]
  },
  {
   "cell_type": "code",
   "execution_count": 12,
   "metadata": {},
   "outputs": [
    {
     "data": {
      "text/plain": [
       "0    192261.83\n",
       "1    191792.06\n",
       "2    191050.39\n",
       "3    182901.99\n",
       "4    166187.94\n",
       "Name: Profit, dtype: float64"
      ]
     },
     "execution_count": 12,
     "metadata": {},
     "output_type": "execute_result"
    }
   ],
   "source": [
    "y.head()"
   ]
  },
  {
   "cell_type": "code",
   "execution_count": 13,
   "metadata": {
    "tags": []
   },
   "outputs": [
    {
     "data": {
      "text/plain": [
       "numpy.ndarray"
      ]
     },
     "execution_count": 13,
     "metadata": {},
     "output_type": "execute_result"
    }
   ],
   "source": [
    "y = y.values\n",
    "type(y)"
   ]
  },
  {
   "cell_type": "markdown",
   "metadata": {
    "colab_type": "text",
    "id": "VadrvE7s_lS9"
   },
   "source": [
    "### Encoding categorical data"
   ]
  },
  {
   "cell_type": "code",
   "execution_count": 14,
   "metadata": {},
   "outputs": [],
   "source": [
    "from sklearn.compose import ColumnTransformer\n",
    "from sklearn.preprocessing import OneHotEncoder"
   ]
  },
  {
   "cell_type": "code",
   "execution_count": 15,
   "metadata": {
    "colab": {},
    "colab_type": "code",
    "id": "wV3fD1mbAvsh"
   },
   "outputs": [],
   "source": [
    "ct = ColumnTransformer(transformers=[('encoder', OneHotEncoder(), [3])], remainder='passthrough')\n",
    "X = np.array(ct.fit_transform(X))"
   ]
  },
  {
   "cell_type": "code",
   "execution_count": 16,
   "metadata": {
    "colab": {
     "base_uri": "https://localhost:8080/",
     "height": 857
    },
    "colab_type": "code",
    "executionInfo": {
     "elapsed": 616,
     "status": "ok",
     "timestamp": 1586353657759,
     "user": {
      "displayName": "Hadelin de Ponteves",
      "photoUrl": "https://lh3.googleusercontent.com/a-/AOh14GhEuXdT7eQweUmRPW8_laJuPggSK6hfvpl5a6WBaA=s64",
      "userId": "15047218817161520419"
     },
     "user_tz": -240
    },
    "id": "4ym3HdYeCGYG",
    "outputId": "ce09e670-cf06-4a1c-f5b0-89422aae0496"
   },
   "outputs": [
    {
     "name": "stdout",
     "output_type": "stream",
     "text": [
      "[[0.0 0.0 1.0 165349.2 136897.8 471784.1]\n",
      " [1.0 0.0 0.0 162597.7 151377.59 443898.53]\n",
      " [0.0 1.0 0.0 153441.51 101145.55 407934.54]\n",
      " [0.0 0.0 1.0 144372.41 118671.85 383199.62]\n",
      " [0.0 1.0 0.0 142107.34 91391.77 366168.42]]\n"
     ]
    }
   ],
   "source": [
    "print(X[:5])"
   ]
  },
  {
   "cell_type": "markdown",
   "metadata": {
    "colab_type": "text",
    "id": "WemVnqgeA70k"
   },
   "source": [
    "### Splitting the dataset into training set and test set"
   ]
  },
  {
   "cell_type": "code",
   "execution_count": 17,
   "metadata": {},
   "outputs": [],
   "source": [
    "from sklearn.model_selection import train_test_split"
   ]
  },
  {
   "cell_type": "code",
   "execution_count": 18,
   "metadata": {
    "colab": {},
    "colab_type": "code",
    "id": "Kb_v_ae-A-20"
   },
   "outputs": [],
   "source": [
    "X_train, X_test, y_train, y_test = train_test_split(X, y, test_size=0.2, random_state=123)"
   ]
  },
  {
   "cell_type": "markdown",
   "metadata": {
    "colab_type": "text",
    "id": "k-McZVsQBINc"
   },
   "source": [
    "### Training the multiple linear regression model on the training set"
   ]
  },
  {
   "cell_type": "code",
   "execution_count": 19,
   "metadata": {},
   "outputs": [],
   "source": [
    "from sklearn.linear_model import LinearRegression"
   ]
  },
  {
   "cell_type": "markdown",
   "metadata": {},
   "source": [
    "This code will create a linear regression model that fits a line to the training data, in order to make future predictions on the test data. "
   ]
  },
  {
   "cell_type": "code",
   "execution_count": 20,
   "metadata": {
    "colab": {
     "base_uri": "https://localhost:8080/",
     "height": 34
    },
    "colab_type": "code",
    "executionInfo": {
     "elapsed": 757,
     "status": "ok",
     "timestamp": 1586353664008,
     "user": {
      "displayName": "Hadelin de Ponteves",
      "photoUrl": "https://lh3.googleusercontent.com/a-/AOh14GhEuXdT7eQweUmRPW8_laJuPggSK6hfvpl5a6WBaA=s64",
      "userId": "15047218817161520419"
     },
     "user_tz": -240
    },
    "id": "ywPjx0L1BMiD",
    "outputId": "099836bc-4d85-4b4f-a488-093faf02e8cb"
   },
   "outputs": [
    {
     "data": {
      "text/html": [
       "<style>#sk-container-id-1 {color: black;background-color: white;}#sk-container-id-1 pre{padding: 0;}#sk-container-id-1 div.sk-toggleable {background-color: white;}#sk-container-id-1 label.sk-toggleable__label {cursor: pointer;display: block;width: 100%;margin-bottom: 0;padding: 0.3em;box-sizing: border-box;text-align: center;}#sk-container-id-1 label.sk-toggleable__label-arrow:before {content: \"▸\";float: left;margin-right: 0.25em;color: #696969;}#sk-container-id-1 label.sk-toggleable__label-arrow:hover:before {color: black;}#sk-container-id-1 div.sk-estimator:hover label.sk-toggleable__label-arrow:before {color: black;}#sk-container-id-1 div.sk-toggleable__content {max-height: 0;max-width: 0;overflow: hidden;text-align: left;background-color: #f0f8ff;}#sk-container-id-1 div.sk-toggleable__content pre {margin: 0.2em;color: black;border-radius: 0.25em;background-color: #f0f8ff;}#sk-container-id-1 input.sk-toggleable__control:checked~div.sk-toggleable__content {max-height: 200px;max-width: 100%;overflow: auto;}#sk-container-id-1 input.sk-toggleable__control:checked~label.sk-toggleable__label-arrow:before {content: \"▾\";}#sk-container-id-1 div.sk-estimator input.sk-toggleable__control:checked~label.sk-toggleable__label {background-color: #d4ebff;}#sk-container-id-1 div.sk-label input.sk-toggleable__control:checked~label.sk-toggleable__label {background-color: #d4ebff;}#sk-container-id-1 input.sk-hidden--visually {border: 0;clip: rect(1px 1px 1px 1px);clip: rect(1px, 1px, 1px, 1px);height: 1px;margin: -1px;overflow: hidden;padding: 0;position: absolute;width: 1px;}#sk-container-id-1 div.sk-estimator {font-family: monospace;background-color: #f0f8ff;border: 1px dotted black;border-radius: 0.25em;box-sizing: border-box;margin-bottom: 0.5em;}#sk-container-id-1 div.sk-estimator:hover {background-color: #d4ebff;}#sk-container-id-1 div.sk-parallel-item::after {content: \"\";width: 100%;border-bottom: 1px solid gray;flex-grow: 1;}#sk-container-id-1 div.sk-label:hover label.sk-toggleable__label {background-color: #d4ebff;}#sk-container-id-1 div.sk-serial::before {content: \"\";position: absolute;border-left: 1px solid gray;box-sizing: border-box;top: 0;bottom: 0;left: 50%;z-index: 0;}#sk-container-id-1 div.sk-serial {display: flex;flex-direction: column;align-items: center;background-color: white;padding-right: 0.2em;padding-left: 0.2em;position: relative;}#sk-container-id-1 div.sk-item {position: relative;z-index: 1;}#sk-container-id-1 div.sk-parallel {display: flex;align-items: stretch;justify-content: center;background-color: white;position: relative;}#sk-container-id-1 div.sk-item::before, #sk-container-id-1 div.sk-parallel-item::before {content: \"\";position: absolute;border-left: 1px solid gray;box-sizing: border-box;top: 0;bottom: 0;left: 50%;z-index: -1;}#sk-container-id-1 div.sk-parallel-item {display: flex;flex-direction: column;z-index: 1;position: relative;background-color: white;}#sk-container-id-1 div.sk-parallel-item:first-child::after {align-self: flex-end;width: 50%;}#sk-container-id-1 div.sk-parallel-item:last-child::after {align-self: flex-start;width: 50%;}#sk-container-id-1 div.sk-parallel-item:only-child::after {width: 0;}#sk-container-id-1 div.sk-dashed-wrapped {border: 1px dashed gray;margin: 0 0.4em 0.5em 0.4em;box-sizing: border-box;padding-bottom: 0.4em;background-color: white;}#sk-container-id-1 div.sk-label label {font-family: monospace;font-weight: bold;display: inline-block;line-height: 1.2em;}#sk-container-id-1 div.sk-label-container {text-align: center;}#sk-container-id-1 div.sk-container {/* jupyter's `normalize.less` sets `[hidden] { display: none; }` but bootstrap.min.css set `[hidden] { display: none !important; }` so we also need the `!important` here to be able to override the default hidden behavior on the sphinx rendered scikit-learn.org. See: https://github.com/scikit-learn/scikit-learn/issues/21755 */display: inline-block !important;position: relative;}#sk-container-id-1 div.sk-text-repr-fallback {display: none;}</style><div id=\"sk-container-id-1\" class=\"sk-top-container\"><div class=\"sk-text-repr-fallback\"><pre>LinearRegression()</pre><b>In a Jupyter environment, please rerun this cell to show the HTML representation or trust the notebook. <br />On GitHub, the HTML representation is unable to render, please try loading this page with nbviewer.org.</b></div><div class=\"sk-container\" hidden><div class=\"sk-item\"><div class=\"sk-estimator sk-toggleable\"><input class=\"sk-toggleable__control sk-hidden--visually\" id=\"sk-estimator-id-1\" type=\"checkbox\" checked><label for=\"sk-estimator-id-1\" class=\"sk-toggleable__label sk-toggleable__label-arrow\">LinearRegression</label><div class=\"sk-toggleable__content\"><pre>LinearRegression()</pre></div></div></div></div></div>"
      ],
      "text/plain": [
       "LinearRegression()"
      ]
     },
     "execution_count": 20,
     "metadata": {},
     "output_type": "execute_result"
    }
   ],
   "source": [
    "lr = LinearRegression()\n",
    "lr.fit(X_train, y_train)"
   ]
  },
  {
   "cell_type": "code",
   "execution_count": 21,
   "metadata": {
    "tags": []
   },
   "outputs": [],
   "source": [
    "theta = lr.coef_"
   ]
  },
  {
   "cell_type": "code",
   "execution_count": 22,
   "metadata": {
    "tags": []
   },
   "outputs": [],
   "source": [
    "b = lr.intercept_"
   ]
  },
  {
   "cell_type": "markdown",
   "metadata": {},
   "source": [
    "Consider the sample `tst` as follows:"
   ]
  },
  {
   "cell_type": "code",
   "execution_count": 23,
   "metadata": {
    "tags": []
   },
   "outputs": [],
   "source": [
    "tst = np.array([1, 0, 0, 15e+3, 10e+2, 5e+6])"
   ]
  },
  {
   "cell_type": "markdown",
   "metadata": {},
   "source": [
    "Predict the outcome if `tst` is the input."
   ]
  },
  {
   "cell_type": "code",
   "execution_count": 24,
   "metadata": {
    "tags": []
   },
   "outputs": [
    {
     "name": "stdout",
     "output_type": "stream",
     "text": [
      "241495.528\n"
     ]
    }
   ],
   "source": [
    "tst = np.array([1, 0, 0, 15e+3, 10e+2, 5e+6])\n",
    "pred = theta @ tst + b\n",
    "print('%.3f' % pred)"
   ]
  },
  {
   "cell_type": "markdown",
   "metadata": {},
   "source": [
    "By calling our `lr`, we get the same result:"
   ]
  },
  {
   "cell_type": "code",
   "execution_count": 25,
   "metadata": {
    "tags": []
   },
   "outputs": [
    {
     "data": {
      "text/plain": [
       "array([241495.528])"
      ]
     },
     "execution_count": 25,
     "metadata": {},
     "output_type": "execute_result"
    }
   ],
   "source": [
    "lr.predict(tst.reshape(1, -1))"
   ]
  },
  {
   "cell_type": "markdown",
   "metadata": {},
   "source": [
    "If we don't want to do the encoding of state feature by ourselves, we can invoke the previous `ct` object."
   ]
  },
  {
   "cell_type": "code",
   "execution_count": 26,
   "metadata": {
    "tags": []
   },
   "outputs": [
    {
     "data": {
      "text/plain": [
       "array([[1.0, 0.0, 0.0, 15000.0, 1000.0, 5000000.0]], dtype=object)"
      ]
     },
     "execution_count": 26,
     "metadata": {},
     "output_type": "execute_result"
    }
   ],
   "source": [
    "tst_new = [[15e+3, 10e+2, 5e+6, 'California']]\n",
    "arr = np.array(ct.transform(tst_new))\n",
    "arr"
   ]
  },
  {
   "cell_type": "code",
   "execution_count": 27,
   "metadata": {},
   "outputs": [
    {
     "data": {
      "text/plain": [
       "array([241495.528])"
      ]
     },
     "execution_count": 27,
     "metadata": {},
     "output_type": "execute_result"
    }
   ],
   "source": [
    "lr.predict(arr)"
   ]
  },
  {
   "cell_type": "markdown",
   "metadata": {},
   "source": [
    "### Evaluation and Visualization"
   ]
  },
  {
   "cell_type": "markdown",
   "metadata": {
    "colab_type": "text",
    "id": "xNkXL1YQBiBT"
   },
   "source": [
    "Make predictions using the $X$ test set and visualize the results"
   ]
  },
  {
   "cell_type": "code",
   "execution_count": 28,
   "metadata": {},
   "outputs": [],
   "source": [
    "y_pred = lr.predict(X_test)"
   ]
  },
  {
   "cell_type": "code",
   "execution_count": 29,
   "metadata": {
    "colab": {
     "base_uri": "https://localhost:8080/",
     "height": 185
    },
    "colab_type": "code",
    "executionInfo": {
     "elapsed": 951,
     "status": "ok",
     "timestamp": 1586353666678,
     "user": {
      "displayName": "Hadelin de Ponteves",
      "photoUrl": "https://lh3.googleusercontent.com/a-/AOh14GhEuXdT7eQweUmRPW8_laJuPggSK6hfvpl5a6WBaA=s64",
      "userId": "15047218817161520419"
     },
     "user_tz": -240
    },
    "id": "TQKmwvtdBkyb",
    "outputId": "493436bf-a4ae-4374-ca16-0b0c25d19457"
   },
   "outputs": [
    {
     "data": {
      "application/vnd.jupyter.widget-view+json": {
       "model_id": "38699a226f514f55b925c8c728c8d1ce",
       "version_major": 2,
       "version_minor": 0
      },
      "image/png": "[encoded data removed]",
      "text/html": [
       "\n",
       "            <div style=\"display: inline-block;\">\n",
       "                <div class=\"jupyter-widgets widget-label\" style=\"text-align: center;\">\n",
       "                    Figure\n",
       "                </div>\n",
       "                <img src='data:image/png;base64,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' width=640.0/>\n",
       "            </div>\n",
       "        "
      ],
      "text/plain": [
       "Canvas(toolbar=Toolbar(toolitems=[('Home', 'Reset original view', 'home', 'home'), ('Back', 'Back to previous …"
      ]
     },
     "metadata": {},
     "output_type": "display_data"
    }
   ],
   "source": [
    "plt.scatter(y_test, y_pred, c='red') # GET AN INSIGHT ABOUT RELATIONSHIP BETWEEN Y_TEST AND Y_PRED\n",
    "plt.grid()"
   ]
  },
  {
   "cell_type": "markdown",
   "metadata": {},
   "source": [
    "Multiple linear regression can be used to understand the relationship between multiple independent variables and a single dependent variable, and can be used to make predictions about the dependent variable given new data. However, it's important to note that the independent variables must be linearly related to the dependent variable in order for multiple linear regression to be appropriate. If the relationship is non-linear, you may need to use a different type of regression analysis such as polynomial regression."
   ]
  },
  {
   "cell_type": "code",
   "execution_count": null,
   "metadata": {},
   "outputs": [],
   "source": []
  }
 ],
 "metadata": {
  "colab": {
   "authorship_tag": "ABX9TyPhYhte6t7H4wEK4xPpDWT7",
   "name": "Multiple Linear Regression",
   "provenance": [],
   "toc_visible": true
  },
  "interpreter": {
   "hash": "31f2aee4e71d21fbe5cf8b01ff0e069b9275f58929596ceb00d14d90e3e16cd6"
  },
  "kernelspec": {
   "display_name": "Python 3 (ipykernel)",
   "language": "python",
   "name": "python3"
  },
  "language_info": {
   "codemirror_mode": {
    "name": "ipython",
    "version": 3
   },
   "file_extension": ".py",
   "mimetype": "text/x-python",
   "name": "python",
   "nbconvert_exporter": "python",
   "pygments_lexer": "ipython3",
   "version": "3.10.12"
  }
 },
 "nbformat": 4,
 "nbformat_minor": 4
}
